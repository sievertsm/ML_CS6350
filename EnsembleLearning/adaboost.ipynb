{
 "cells": [
  {
   "cell_type": "code",
   "execution_count": 1,
   "metadata": {},
   "outputs": [],
   "source": [
    "import pandas as pd\n",
    "import numpy as np\n",
    "import matplotlib.pyplot as plt"
   ]
  },
  {
   "cell_type": "code",
   "execution_count": 2,
   "metadata": {},
   "outputs": [],
   "source": [
    "from ensemble_learning import DecisionTree, entropy, accuracy, compute_gain"
   ]
  },
  {
   "cell_type": "code",
   "execution_count": 3,
   "metadata": {},
   "outputs": [],
   "source": [
    "def compute_alpha(y_true, y_pred, weight):\n",
    "    \n",
    "#     epsilon = weight * y_true * y_pred\n",
    "#     epsilon = 0.5 - 0.5 * epsilon.sum()\n",
    "    \n",
    "    epsilon = weight[y_true != y_pred].sum()\n",
    "    \n",
    "    \n",
    "    \n",
    "#     print('eps', epsilon)\n",
    "    alpha = 0.5 * np.log((1-epsilon)/(epsilon))\n",
    "    \n",
    "    return alpha\n",
    "\n",
    "def compute_next_weight(y_true, y_pred, weight, alpha):\n",
    "    \n",
    "    next_weight = (y_true * y_pred).astype(np.float)\n",
    "    next_weight *= -alpha\n",
    "    \n",
    "    next_weight = np.exp(next_weight)\n",
    "    \n",
    "    next_weight *= weight\n",
    "    \n",
    "    Zt = next_weight.sum()\n",
    "    \n",
    "    next_weight /= Zt\n",
    "    \n",
    "    return next_weight"
   ]
  },
  {
   "cell_type": "code",
   "execution_count": 4,
   "metadata": {},
   "outputs": [],
   "source": [
    "class Adaboost(object):\n",
    "    \n",
    "    def __init__(self, function=entropy):\n",
    "        self._function = function\n",
    "        \n",
    "    def fit(self, X, y, T=10):\n",
    "        \n",
    "        # copy in variables\n",
    "        self._X = X.copy()\n",
    "        self._y = y.copy()\n",
    "        self._T = T\n",
    "        \n",
    "        # initialize weigths\n",
    "        weight = np.ones_like(y) / len(y)\n",
    "        \n",
    "        # initialize lists to store variables\n",
    "        self._stump=[]\n",
    "        self._alpha=[]\n",
    "        self._key=[]\n",
    "        \n",
    "        for i in range(self._T):\n",
    "#             print(weight)\n",
    "\n",
    "            #find decision stump i\n",
    "            stump = DecisionTree(max_depth=1)\n",
    "            stump.fit(self._X, self._y, weight=weight)\n",
    "            self._stump.append(stump)\n",
    "            \n",
    "#             print(compute_gain(stump._X, stump._y, weight).argmax())\n",
    "\n",
    "            # get current predictions\n",
    "            y_pred = self._stump[i].predict(self._X)\n",
    "\n",
    "            # find alpha\n",
    "            alpha = compute_alpha(self._y, y_pred, weight)\n",
    "            self._alpha.append(alpha)\n",
    "\n",
    "            # update weights for next stump\n",
    "            weight = compute_next_weight(self._y, y_pred, weight, alpha)\n",
    "            \n",
    "            # append key for troubleshooting\n",
    "            self._key.append(self._stump[i]._tree.key)\n",
    "            \n",
    "    def predict(self, X, binary=True):\n",
    "        \n",
    "        self._Xpred = X.copy()\n",
    "        \n",
    "        # initialize all predictions to 0\n",
    "        y_pred = np.zeros(self._Xpred.shape[0])\n",
    "        \n",
    "        # loop over all trees T\n",
    "        for i in range(self._T):\n",
    "            \n",
    "            # get current vot\n",
    "            pred_t = self._stump[i].predict(self._Xpred).astype(np.float)\n",
    "            pred_t *= self._alpha[i]\n",
    "            \n",
    "            # add to total vote\n",
    "            y_pred += pred_t\n",
    "            \n",
    "        # convert to binary output based on the sign\n",
    "        if binary:\n",
    "            y_pred[y_pred < 0] = -1\n",
    "            y_pred[y_pred >= 0] = 1\n",
    "            y_pred = y_pred.astype(np.int)\n",
    "            \n",
    "        return y_pred\n",
    "        "
   ]
  },
  {
   "cell_type": "code",
   "execution_count": 5,
   "metadata": {},
   "outputs": [],
   "source": [
    "# read data\n",
    "cols = ['age', 'job', 'marital', 'education', 'default', 'balance', 'housing', 'loan', 'contact', 'day', 'month', 'duration', 'campaign', 'pdays', 'previous', 'poutcome', 'y']\n",
    "df = pd.read_csv('../data/bank/train.csv', names=cols)\n",
    "\n",
    "# process numeric input\n",
    "medians = df.median()\n",
    "\n",
    "for col in medians.index:\n",
    "    df[col] = df[col].apply(lambda x: x > medians[col])\n",
    "    \n",
    "# process labels\n",
    "label_dict={'yes': 1, 'no': -1}\n",
    "df['y'] = df['y'].map(label_dict)"
   ]
  },
  {
   "cell_type": "code",
   "execution_count": 6,
   "metadata": {},
   "outputs": [
    {
     "data": {
      "text/html": [
       "<div>\n",
       "<style scoped>\n",
       "    .dataframe tbody tr th:only-of-type {\n",
       "        vertical-align: middle;\n",
       "    }\n",
       "\n",
       "    .dataframe tbody tr th {\n",
       "        vertical-align: top;\n",
       "    }\n",
       "\n",
       "    .dataframe thead th {\n",
       "        text-align: right;\n",
       "    }\n",
       "</style>\n",
       "<table border=\"1\" class=\"dataframe\">\n",
       "  <thead>\n",
       "    <tr style=\"text-align: right;\">\n",
       "      <th></th>\n",
       "      <th>age</th>\n",
       "      <th>job</th>\n",
       "      <th>marital</th>\n",
       "      <th>education</th>\n",
       "      <th>default</th>\n",
       "      <th>balance</th>\n",
       "      <th>housing</th>\n",
       "      <th>loan</th>\n",
       "      <th>contact</th>\n",
       "      <th>day</th>\n",
       "      <th>month</th>\n",
       "      <th>duration</th>\n",
       "      <th>campaign</th>\n",
       "      <th>pdays</th>\n",
       "      <th>previous</th>\n",
       "      <th>poutcome</th>\n",
       "      <th>y</th>\n",
       "    </tr>\n",
       "  </thead>\n",
       "  <tbody>\n",
       "    <tr>\n",
       "      <th>0</th>\n",
       "      <td>True</td>\n",
       "      <td>services</td>\n",
       "      <td>married</td>\n",
       "      <td>secondary</td>\n",
       "      <td>no</td>\n",
       "      <td>False</td>\n",
       "      <td>yes</td>\n",
       "      <td>no</td>\n",
       "      <td>unknown</td>\n",
       "      <td>False</td>\n",
       "      <td>may</td>\n",
       "      <td>False</td>\n",
       "      <td>False</td>\n",
       "      <td>False</td>\n",
       "      <td>False</td>\n",
       "      <td>unknown</td>\n",
       "      <td>-1</td>\n",
       "    </tr>\n",
       "    <tr>\n",
       "      <th>1</th>\n",
       "      <td>True</td>\n",
       "      <td>blue-collar</td>\n",
       "      <td>single</td>\n",
       "      <td>secondary</td>\n",
       "      <td>no</td>\n",
       "      <td>False</td>\n",
       "      <td>yes</td>\n",
       "      <td>yes</td>\n",
       "      <td>cellular</td>\n",
       "      <td>False</td>\n",
       "      <td>feb</td>\n",
       "      <td>True</td>\n",
       "      <td>False</td>\n",
       "      <td>False</td>\n",
       "      <td>False</td>\n",
       "      <td>unknown</td>\n",
       "      <td>-1</td>\n",
       "    </tr>\n",
       "    <tr>\n",
       "      <th>2</th>\n",
       "      <td>True</td>\n",
       "      <td>technician</td>\n",
       "      <td>married</td>\n",
       "      <td>secondary</td>\n",
       "      <td>no</td>\n",
       "      <td>True</td>\n",
       "      <td>no</td>\n",
       "      <td>yes</td>\n",
       "      <td>cellular</td>\n",
       "      <td>True</td>\n",
       "      <td>aug</td>\n",
       "      <td>True</td>\n",
       "      <td>False</td>\n",
       "      <td>True</td>\n",
       "      <td>True</td>\n",
       "      <td>success</td>\n",
       "      <td>1</td>\n",
       "    </tr>\n",
       "    <tr>\n",
       "      <th>3</th>\n",
       "      <td>True</td>\n",
       "      <td>admin.</td>\n",
       "      <td>married</td>\n",
       "      <td>tertiary</td>\n",
       "      <td>no</td>\n",
       "      <td>False</td>\n",
       "      <td>yes</td>\n",
       "      <td>no</td>\n",
       "      <td>cellular</td>\n",
       "      <td>False</td>\n",
       "      <td>jul</td>\n",
       "      <td>True</td>\n",
       "      <td>False</td>\n",
       "      <td>False</td>\n",
       "      <td>False</td>\n",
       "      <td>unknown</td>\n",
       "      <td>-1</td>\n",
       "    </tr>\n",
       "    <tr>\n",
       "      <th>4</th>\n",
       "      <td>False</td>\n",
       "      <td>management</td>\n",
       "      <td>single</td>\n",
       "      <td>tertiary</td>\n",
       "      <td>no</td>\n",
       "      <td>True</td>\n",
       "      <td>no</td>\n",
       "      <td>no</td>\n",
       "      <td>cellular</td>\n",
       "      <td>False</td>\n",
       "      <td>apr</td>\n",
       "      <td>False</td>\n",
       "      <td>False</td>\n",
       "      <td>False</td>\n",
       "      <td>False</td>\n",
       "      <td>unknown</td>\n",
       "      <td>1</td>\n",
       "    </tr>\n",
       "  </tbody>\n",
       "</table>\n",
       "</div>"
      ],
      "text/plain": [
       "     age          job  marital  education default  balance housing loan  \\\n",
       "0   True     services  married  secondary      no    False     yes   no   \n",
       "1   True  blue-collar   single  secondary      no    False     yes  yes   \n",
       "2   True   technician  married  secondary      no     True      no  yes   \n",
       "3   True       admin.  married   tertiary      no    False     yes   no   \n",
       "4  False   management   single   tertiary      no     True      no   no   \n",
       "\n",
       "    contact    day month  duration  campaign  pdays  previous poutcome  y  \n",
       "0   unknown  False   may     False     False  False     False  unknown -1  \n",
       "1  cellular  False   feb      True     False  False     False  unknown -1  \n",
       "2  cellular   True   aug      True     False   True      True  success  1  \n",
       "3  cellular  False   jul      True     False  False     False  unknown -1  \n",
       "4  cellular  False   apr     False     False  False     False  unknown  1  "
      ]
     },
     "execution_count": 6,
     "metadata": {},
     "output_type": "execute_result"
    }
   ],
   "source": [
    "df.head()"
   ]
  },
  {
   "cell_type": "code",
   "execution_count": 7,
   "metadata": {},
   "outputs": [],
   "source": [
    "X = df.drop(['y'], axis=1).values\n",
    "y = df['y'].values"
   ]
  },
  {
   "cell_type": "code",
   "execution_count": 8,
   "metadata": {},
   "outputs": [],
   "source": [
    "model = Adaboost()"
   ]
  },
  {
   "cell_type": "code",
   "execution_count": 9,
   "metadata": {},
   "outputs": [
    {
     "data": {
      "text/plain": [
       "0.8808"
      ]
     },
     "execution_count": 9,
     "metadata": {},
     "output_type": "execute_result"
    }
   ],
   "source": [
    "model.fit(X, y, T=5)\n",
    "\n",
    "accuracy(model.predict(X), y)"
   ]
  },
  {
   "cell_type": "code",
   "execution_count": 10,
   "metadata": {},
   "outputs": [
    {
     "data": {
      "text/plain": [
       "[11, 11, 11, 11, 11]"
      ]
     },
     "execution_count": 10,
     "metadata": {},
     "output_type": "execute_result"
    }
   ],
   "source": [
    "model._key"
   ]
  },
  {
   "cell_type": "code",
   "execution_count": 11,
   "metadata": {},
   "outputs": [
    {
     "data": {
      "text/plain": [
       "[1.0000139153886103,\n",
       " 2.2204460492503126e-16,\n",
       " -4.440892098500628e-16,\n",
       " 5.55111512312578e-16,\n",
       " -4.440892098500628e-16]"
      ]
     },
     "execution_count": 11,
     "metadata": {},
     "output_type": "execute_result"
    }
   ],
   "source": [
    "model._alpha"
   ]
  },
  {
   "cell_type": "code",
   "execution_count": 23,
   "metadata": {},
   "outputs": [
    {
     "name": "stdout",
     "output_type": "stream",
     "text": [
      "11 0.05960230138776085\n"
     ]
    },
    {
     "data": {
      "text/plain": [
       "array([0.00076046, 0.01331066, 0.00452142, 0.00662615, 0.00072379,\n",
       "       0.00371893, 0.01395331, 0.00485239, 0.01811303, 0.00080701,\n",
       "       0.03646958, 0.0596023 , 0.00409171, 0.01369313, 0.01369313,\n",
       "       0.03964955])"
      ]
     },
     "execution_count": 23,
     "metadata": {},
     "output_type": "execute_result"
    }
   ],
   "source": [
    "w = np.ones_like(y) / len(y)\n",
    "\n",
    "gain = compute_gain(X, y, w)\n",
    "idx = gain.argmax()\n",
    "print(idx, gain[idx])\n",
    "gain"
   ]
  },
  {
   "cell_type": "code",
   "execution_count": 14,
   "metadata": {},
   "outputs": [
    {
     "data": {
      "text/plain": [
       "0.8808"
      ]
     },
     "execution_count": 14,
     "metadata": {},
     "output_type": "execute_result"
    }
   ],
   "source": [
    "st = DecisionTree(max_depth=1)\n",
    "st.fit(X, y, w)\n",
    "\n",
    "y_pred = st.predict(X)\n",
    "accuracy(y_pred, y)"
   ]
  },
  {
   "cell_type": "code",
   "execution_count": 15,
   "metadata": {},
   "outputs": [
    {
     "data": {
      "text/plain": [
       "1.0000139153886103"
      ]
     },
     "execution_count": 15,
     "metadata": {},
     "output_type": "execute_result"
    }
   ],
   "source": [
    "alpha = compute_alpha(y, y_pred, w)\n",
    "alpha"
   ]
  },
  {
   "cell_type": "code",
   "execution_count": 16,
   "metadata": {},
   "outputs": [],
   "source": [
    "w2 = compute_next_weight(y, y_pred, w, alpha)"
   ]
  },
  {
   "cell_type": "code",
   "execution_count": 17,
   "metadata": {},
   "outputs": [
    {
     "data": {
      "text/plain": [
       "array([0.00011353, 0.00083893])"
      ]
     },
     "execution_count": 17,
     "metadata": {},
     "output_type": "execute_result"
    }
   ],
   "source": [
    "np.unique(w2)"
   ]
  },
  {
   "cell_type": "code",
   "execution_count": 18,
   "metadata": {},
   "outputs": [
    {
     "name": "stdout",
     "output_type": "stream",
     "text": [
      "11 0.1509723081407396\n"
     ]
    },
    {
     "data": {
      "text/plain": [
       "array([0.00181219, 0.03144655, 0.0105943 , 0.01558737, 0.00189934,\n",
       "       0.00888707, 0.03332823, 0.01235735, 0.04681782, 0.00192495,\n",
       "       0.07108786, 0.15097231, 0.00998718, 0.03026814, 0.03026814,\n",
       "       0.06791394])"
      ]
     },
     "execution_count": 18,
     "metadata": {},
     "output_type": "execute_result"
    }
   ],
   "source": [
    "gain = compute_gain(X, y, w2)\n",
    "idx = gain.argmax()\n",
    "print(idx, gain[idx])\n",
    "gain"
   ]
  },
  {
   "cell_type": "code",
   "execution_count": 19,
   "metadata": {},
   "outputs": [
    {
     "data": {
      "text/plain": [
       "0.8808"
      ]
     },
     "execution_count": 19,
     "metadata": {},
     "output_type": "execute_result"
    }
   ],
   "source": [
    "st = DecisionTree(max_depth=1)\n",
    "st.fit(X, y, w2)\n",
    "\n",
    "y_pred = st.predict(X)\n",
    "accuracy(y_pred, y)"
   ]
  },
  {
   "cell_type": "code",
   "execution_count": 20,
   "metadata": {},
   "outputs": [
    {
     "data": {
      "text/plain": [
       "2.2204460492503126e-16"
      ]
     },
     "execution_count": 20,
     "metadata": {},
     "output_type": "execute_result"
    }
   ],
   "source": [
    "alpha = compute_alpha(y, y_pred, w2)\n",
    "alpha"
   ]
  },
  {
   "cell_type": "code",
   "execution_count": 21,
   "metadata": {},
   "outputs": [],
   "source": [
    "w2 = compute_next_weight(y, y_pred, w2, alpha)"
   ]
  },
  {
   "cell_type": "code",
   "execution_count": 22,
   "metadata": {},
   "outputs": [
    {
     "data": {
      "text/plain": [
       "array([0.00011353, 0.00083893])"
      ]
     },
     "execution_count": 22,
     "metadata": {},
     "output_type": "execute_result"
    }
   ],
   "source": [
    "np.unique(w2)"
   ]
  }
 ],
 "metadata": {
  "kernelspec": {
   "display_name": "Python 3",
   "language": "python",
   "name": "python3"
  },
  "language_info": {
   "codemirror_mode": {
    "name": "ipython",
    "version": 3
   },
   "file_extension": ".py",
   "mimetype": "text/x-python",
   "name": "python",
   "nbconvert_exporter": "python",
   "pygments_lexer": "ipython3",
   "version": "3.7.6"
  }
 },
 "nbformat": 4,
 "nbformat_minor": 4
}
