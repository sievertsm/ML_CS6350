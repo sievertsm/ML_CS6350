{
 "cells": [
  {
   "cell_type": "code",
   "execution_count": 1,
   "metadata": {},
   "outputs": [],
   "source": [
    "import pandas as pd\n",
    "import numpy as np\n",
    "import matplotlib.pyplot as plt"
   ]
  },
  {
   "cell_type": "code",
   "execution_count": 2,
   "metadata": {},
   "outputs": [],
   "source": [
    "from ensemble_learning import DecisionTree, entropy, accuracy, compute_gain"
   ]
  },
  {
   "cell_type": "code",
   "execution_count": 3,
   "metadata": {},
   "outputs": [],
   "source": [
    "def compute_alpha_epsilon(y_true, y_pred, weight):\n",
    "        \n",
    "    epsilon = weight[y_true != y_pred].sum()\n",
    "    \n",
    "    alpha = 0.5 * np.log((1-epsilon)/(epsilon))\n",
    "    \n",
    "    return alpha, epsilon\n",
    "\n",
    "def compute_next_weight(y_true, y_pred, weight, alpha):\n",
    "    \n",
    "    next_weight = (y_true * y_pred).astype(np.float)\n",
    "    next_weight *= -alpha\n",
    "    \n",
    "    next_weight = np.exp(next_weight)\n",
    "    \n",
    "    next_weight *= weight\n",
    "    \n",
    "    Zt = next_weight.sum()\n",
    "    \n",
    "    next_weight /= Zt\n",
    "    \n",
    "    return next_weight"
   ]
  },
  {
   "cell_type": "code",
   "execution_count": 4,
   "metadata": {},
   "outputs": [],
   "source": [
    "class Adaboost(object):\n",
    "    \n",
    "    def __init__(self, function=entropy):\n",
    "        self._function = function\n",
    "        \n",
    "    def fit(self, X, y, T=10):\n",
    "        \n",
    "        # copy in variables\n",
    "        self._X = X.copy()\n",
    "        self._y = y.copy()\n",
    "        self._T = T\n",
    "        \n",
    "        # initialize weigths\n",
    "        weight = np.ones_like(y) / len(y)\n",
    "        \n",
    "        # initialize lists to store variables\n",
    "        self._stump=[]\n",
    "        self._alpha=[]\n",
    "        self._epsilon=[]\n",
    "        self._key=[]\n",
    "        \n",
    "        for i in range(self._T):\n",
    "\n",
    "            #find decision stump i\n",
    "            stump = DecisionTree(max_depth=1)\n",
    "            stump.fit(self._X, self._y, weight=weight)\n",
    "            self._stump.append(stump)\n",
    "\n",
    "            # get current predictions\n",
    "            y_pred = self._stump[i].predict(self._X)\n",
    "\n",
    "            # find alpha\n",
    "            alpha, eps = compute_alpha_epsilon(self._y, y_pred, weight)\n",
    "            self._alpha.append(alpha)\n",
    "            self._epsilon.append(eps)\n",
    "\n",
    "            # update weights for next stump\n",
    "            weight = compute_next_weight(self._y, y_pred, weight, alpha)\n",
    "            \n",
    "            # append key for troubleshooting\n",
    "            self._key.append(self._stump[i]._tree.key)\n",
    "            \n",
    "    def predict(self, X, binary=True):\n",
    "        \n",
    "        self._Xpred = X.copy()\n",
    "        \n",
    "        # initialize all predictions to 0\n",
    "        y_pred = np.zeros(self._Xpred.shape[0])\n",
    "        \n",
    "        # loop over all trees T\n",
    "        for i in range(self._T):\n",
    "            \n",
    "            # get current vot\n",
    "            pred_t = self._stump[i].predict(self._Xpred).astype(np.float)\n",
    "            pred_t *= self._alpha[i]\n",
    "            \n",
    "            # add to total vote\n",
    "            y_pred += pred_t\n",
    "            \n",
    "        # convert to binary output based on the sign\n",
    "        if binary:\n",
    "            y_pred[y_pred < 0] = -1\n",
    "            y_pred[y_pred >= 0] = 1\n",
    "            y_pred = y_pred.astype(np.int)\n",
    "            \n",
    "        return y_pred"
   ]
  },
  {
   "cell_type": "code",
   "execution_count": 9,
   "metadata": {},
   "outputs": [],
   "source": [
    "# read data\n",
    "cols = ['age', 'job', 'marital', 'education', 'default', 'balance', 'housing', 'loan', 'contact', 'day', 'month', 'duration', 'campaign', 'pdays', 'previous', 'poutcome', 'y']\n",
    "df_train = pd.read_csv('../data/bank/train.csv', names=cols)\n",
    "df_test = pd.read_csv('../data/bank/test.csv', names=cols)\n",
    "\n",
    "# process numeric input\n",
    "medians = df_train.median()\n",
    "\n",
    "for col in medians.index:\n",
    "    df_train[col] = df_train[col].apply(lambda x: x > medians[col])\n",
    "    df_test[col] = df_test[col].apply(lambda x: x > medians[col])\n",
    "    \n",
    "# process labels\n",
    "label_dict={'yes': 1, 'no': -1}\n",
    "df_train['y'] = df_train['y'].map(label_dict)\n",
    "df_test['y'] = df_test['y'].map(label_dict)\n",
    "\n",
    "X_train = df_train.drop(['y'], axis=1).values\n",
    "y_train = df_train['y'].values\n",
    "\n",
    "X_test = df_test.drop(['y'], axis=1).values\n",
    "y_test = df_test['y'].values"
   ]
  },
  {
   "cell_type": "code",
   "execution_count": 10,
   "metadata": {},
   "outputs": [],
   "source": [
    "model = Adaboost()\n",
    "model.fit(X_train, y_train, T=20)"
   ]
  },
  {
   "cell_type": "code",
   "execution_count": 17,
   "metadata": {},
   "outputs": [],
   "source": [
    "iterations = np.arange(0, 51, 5)\n",
    "iterations[0] = 1\n",
    "\n",
    "error_train=[]\n",
    "error_test=[]\n",
    "\n",
    "for i in iterations:\n",
    "    model = Adaboost()\n",
    "    model.fit(X_train, y_train, T=i)\n",
    "    error_train.append(1 - accuracy(model.predict(X_train), y_train))\n",
    "    error_test.append(1 - accuracy(model.predict(X_test), y_test))"
   ]
  },
  {
   "cell_type": "code",
   "execution_count": 19,
   "metadata": {},
   "outputs": [
    {
     "data": {
      "image/png": "[encoded data removed]",
      "text/plain": [
       "<Figure size 432x288 with 1 Axes>"
      ]
     },
     "metadata": {
      "needs_background": "light"
     },
     "output_type": "display_data"
    }
   ],
   "source": [
    "plt.plot(iterations, error_train)\n",
    "plt.plot(iterations, error_test)\n",
    "plt.show()"
   ]
  },
  {
   "cell_type": "code",
   "execution_count": null,
   "metadata": {},
   "outputs": [],
   "source": []
  }
 ],
 "metadata": {
  "kernelspec": {
   "display_name": "Python 3",
   "language": "python",
   "name": "python3"
  },
  "language_info": {
   "codemirror_mode": {
    "name": "ipython",
    "version": 3
   },
   "file_extension": ".py",
   "mimetype": "text/x-python",
   "name": "python",
   "nbconvert_exporter": "python",
   "pygments_lexer": "ipython3",
   "version": "3.7.6"
  }
 },
 "nbformat": 4,
 "nbformat_minor": 4
}
