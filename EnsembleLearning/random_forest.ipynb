{
 "cells": [
  {
   "cell_type": "code",
   "execution_count": 1,
   "metadata": {},
   "outputs": [],
   "source": [
    "# from ensemble_learning import RandomForest, accuracy\n",
    "from ensemble_learning import DecisionTree, accuracy"
   ]
  },
  {
   "cell_type": "code",
   "execution_count": 2,
   "metadata": {},
   "outputs": [],
   "source": [
    "import pandas as pd\n",
    "import numpy as np\n",
    "import matplotlib.pyplot as plt"
   ]
  },
  {
   "cell_type": "code",
   "execution_count": 3,
   "metadata": {},
   "outputs": [],
   "source": [
    "class RandomForest(object):\n",
    "    \n",
    "    def __init__(self, num_trees=10, sub_size=2):\n",
    "        \n",
    "        self.num_trees = num_trees\n",
    "        self.sub_size = sub_size\n",
    "        \n",
    "    def fit(self, X, y, m=None):\n",
    "        \n",
    "        # if m is not specified set m to the number of columns in X\n",
    "        if not m:\n",
    "            m = X.shape[0]\n",
    "        \n",
    "        # make random selection of choices for each decison tree\n",
    "#         self.sub_idx = [np.random.randint(X.shape[0], size=m) for i in range(self.num_trees)]\n",
    "        \n",
    "        self.trees=[]\n",
    "        for i in range(self.num_trees):\n",
    "            \n",
    "            bootstrap = np.random.randint(X.shape[0], size=m)\n",
    "            \n",
    "            X_boot = X[bootstrap].copy()\n",
    "            y_boot = y[bootstrap].copy()\n",
    "            \n",
    "            t = DecisionTree(subSize=self.sub_size)\n",
    "            t.fit(X_boot, y_boot)\n",
    "            self.trees.append(t)\n",
    "            \n",
    "    def predict(self, X):\n",
    "        \n",
    "        # get individual predictions for each tree\n",
    "        pred=[]\n",
    "        for i, t in enumerate(self.trees):\n",
    "            \n",
    "#             X_sub = X[:, self.sub_idx[i]].copy()\n",
    "            pred.append(t.predict(X))\n",
    "            \n",
    "        pred = np.array(pred).T\n",
    "        \n",
    "        # vote for true prediction\n",
    "        y_pred=[]\n",
    "        for i in range(len(pred)):\n",
    "            val, cnt = np.unique(pred[i], return_counts=True)\n",
    "            y_pred.append(val[cnt.argmax()])\n",
    "            \n",
    "        return np.array(y_pred)"
   ]
  },
  {
   "cell_type": "code",
   "execution_count": 4,
   "metadata": {},
   "outputs": [],
   "source": [
    "# read data\n",
    "cols = ['age', 'job', 'marital', 'education', 'default', 'balance', 'housing', 'loan', 'contact', 'day', 'month', 'duration', 'campaign', 'pdays', 'previous', 'poutcome', 'y']\n",
    "df_train = pd.read_csv('../data/bank/train.csv', names=cols)\n",
    "\n",
    "# process numeric input\n",
    "medians = df_train.median()\n",
    "\n",
    "for col in medians.index:\n",
    "    df_train[col] = df_train[col].apply(lambda x: x > medians[col])\n",
    "    \n",
    "# process labels\n",
    "label_dict={'yes': 1, 'no': -1}\n",
    "df_train['y'] = df_train['y'].map(label_dict)"
   ]
  },
  {
   "cell_type": "code",
   "execution_count": 5,
   "metadata": {},
   "outputs": [],
   "source": [
    "X = df_train.drop('y', axis=1).values\n",
    "y = df_train['y'].values"
   ]
  },
  {
   "cell_type": "code",
   "execution_count": 6,
   "metadata": {},
   "outputs": [
    {
     "data": {
      "text/plain": [
       "0.986"
      ]
     },
     "execution_count": 6,
     "metadata": {},
     "output_type": "execute_result"
    }
   ],
   "source": [
    "model = RandomForest(num_trees=50, sub_size=6)\n",
    "model.fit(X, y)\n",
    "\n",
    "y_pred = model.predict(X)\n",
    "accuracy(y_pred, y)"
   ]
  },
  {
   "cell_type": "code",
   "execution_count": null,
   "metadata": {},
   "outputs": [],
   "source": []
  },
  {
   "cell_type": "code",
   "execution_count": 8,
   "metadata": {},
   "outputs": [
    {
     "data": {
      "text/plain": [
       "array([ 1,  5, 10])"
      ]
     },
     "execution_count": 8,
     "metadata": {},
     "output_type": "execute_result"
    }
   ],
   "source": [
    "n_trees = np.arange(0, 11, 5)\n",
    "n_trees[0] = 1\n",
    "n_trees"
   ]
  },
  {
   "cell_type": "code",
   "execution_count": 9,
   "metadata": {},
   "outputs": [],
   "source": [
    "sub=[2, 4, 6]"
   ]
  },
  {
   "cell_type": "code",
   "execution_count": 11,
   "metadata": {},
   "outputs": [
    {
     "name": "stdout",
     "output_type": "stream",
     "text": [
      "\n",
      "Beginning sub size 2\n",
      "sub size 2, ntree 1\n",
      "sub size 2, ntree 5\n",
      "sub size 2, ntree 10\n",
      "\n",
      "Beginning sub size 4\n",
      "sub size 4, ntree 1\n",
      "sub size 4, ntree 5\n",
      "sub size 4, ntree 10\n",
      "\n",
      "Beginning sub size 6\n",
      "sub size 6, ntree 1\n",
      "sub size 6, ntree 5\n",
      "sub size 6, ntree 10\n"
     ]
    }
   ],
   "source": [
    "results={}\n",
    "\n",
    "for s in sub:\n",
    "    print(f'\\nBeginning sub size {s}')\n",
    "\n",
    "    acc=[]\n",
    "\n",
    "    for i in n_trees:\n",
    "        print(f'sub size {s}, ntree {i}')\n",
    "\n",
    "        mod = RandomForest(num_trees=i, sub_size=s)\n",
    "        mod.fit(X, y)\n",
    "\n",
    "        y_pred = mod.predict(X)\n",
    "        acc.append(accuracy(y_pred, y))\n",
    "        del(mod)\n",
    "        \n",
    "    results[s] = acc"
   ]
  },
  {
   "cell_type": "code",
   "execution_count": 12,
   "metadata": {},
   "outputs": [
    {
     "data": {
      "image/png": "[encoded data removed]",
      "text/plain": [
       "<Figure size 864x216 with 3 Axes>"
      ]
     },
     "metadata": {
      "needs_background": "light"
     },
     "output_type": "display_data"
    }
   ],
   "source": [
    "fig, ax = plt.subplots(nrows=1, ncols=len(sub), figsize=(12, 3), sharey=True)\n",
    "for i, n in enumerate(results.keys()):\n",
    "    ax[i].plot(n_trees, results[n])\n",
    "    \n",
    "fig.tight_layout()"
   ]
  }
 ],
 "metadata": {
  "kernelspec": {
   "display_name": "Python 3",
   "language": "python",
   "name": "python3"
  },
  "language_info": {
   "codemirror_mode": {
    "name": "ipython",
    "version": 3
   },
   "file_extension": ".py",
   "mimetype": "text/x-python",
   "name": "python",
   "nbconvert_exporter": "python",
   "pygments_lexer": "ipython3",
   "version": "3.7.6"
  }
 },
 "nbformat": 4,
 "nbformat_minor": 4
}
