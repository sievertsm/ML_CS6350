{
 "cells": [
  {
   "cell_type": "code",
   "execution_count": 1,
   "metadata": {},
   "outputs": [],
   "source": [
    "# from ensemble_learning import RandomForest, accuracy\n",
    "from ensemble_learning import DecisionTree, accuracy"
   ]
  },
  {
   "cell_type": "code",
   "execution_count": 2,
   "metadata": {},
   "outputs": [],
   "source": [
    "import pandas as pd\n",
    "import numpy as np\n",
    "import matplotlib.pyplot as plt"
   ]
  },
  {
   "cell_type": "code",
   "execution_count": 3,
   "metadata": {},
   "outputs": [],
   "source": [
    "class Bagging(object):\n",
    "    \n",
    "    def __init__(self, num_trees=10):\n",
    "        \n",
    "        self.num_trees = num_trees\n",
    "        \n",
    "    def fit(self, X, y, m=None):\n",
    "        \n",
    "        # if m is not specified set m to the number of columns in X\n",
    "        if not m:\n",
    "            m = X.shape[0]\n",
    "        \n",
    "        # make random selection of choices for each decison tree\n",
    "#         self.sub_idx = [np.random.randint(X.shape[0], size=m) for i in range(self.num_trees)]\n",
    "        \n",
    "        self.trees=[]\n",
    "        for i in range(self.num_trees):\n",
    "            \n",
    "            bootstrap = np.random.randint(X.shape[0], size=m)\n",
    "            \n",
    "            X_boot = X[bootstrap].copy()\n",
    "            y_boot = y[bootstrap].copy()\n",
    "            \n",
    "            t = DecisionTree()\n",
    "            t.fit(X_boot, y_boot)\n",
    "            self.trees.append(t)\n",
    "            \n",
    "    def predict(self, X):\n",
    "        \n",
    "        # get individual predictions for each tree\n",
    "        pred=[]\n",
    "        for i, t in enumerate(self.trees):\n",
    "            \n",
    "#             X_sub = X[:, self.sub_idx[i]].copy()\n",
    "            pred.append(t.predict(X))\n",
    "            \n",
    "        pred = np.array(pred).T\n",
    "        \n",
    "        # vote for true prediction\n",
    "        y_pred=[]\n",
    "        for i in range(len(pred)):\n",
    "            val, cnt = np.unique(pred[i], return_counts=True)\n",
    "            y_pred.append(val[cnt.argmax()])\n",
    "            \n",
    "        return np.array(y_pred)"
   ]
  },
  {
   "cell_type": "code",
   "execution_count": 4,
   "metadata": {},
   "outputs": [],
   "source": [
    "# read data\n",
    "cols = ['age', 'job', 'marital', 'education', 'default', 'balance', 'housing', 'loan', 'contact', 'day', 'month', 'duration', 'campaign', 'pdays', 'previous', 'poutcome', 'y']\n",
    "df_train = pd.read_csv('../data/bank/train.csv', names=cols)\n",
    "\n",
    "# process numeric input\n",
    "medians = df_train.median()\n",
    "\n",
    "for col in medians.index:\n",
    "    df_train[col] = df_train[col].apply(lambda x: x > medians[col])\n",
    "    \n",
    "# process labels\n",
    "label_dict={'yes': 1, 'no': -1}\n",
    "df_train['y'] = df_train['y'].map(label_dict)"
   ]
  },
  {
   "cell_type": "code",
   "execution_count": 5,
   "metadata": {},
   "outputs": [],
   "source": [
    "X = df_train.drop('y', axis=1).values\n",
    "y = df_train['y'].values"
   ]
  },
  {
   "cell_type": "code",
   "execution_count": 6,
   "metadata": {},
   "outputs": [
    {
     "data": {
      "text/plain": [
       "0.9864"
      ]
     },
     "execution_count": 6,
     "metadata": {},
     "output_type": "execute_result"
    }
   ],
   "source": [
    "model = Bagging(num_trees=50)\n",
    "model.fit(X, y)\n",
    "\n",
    "y_pred = model.predict(X)\n",
    "accuracy(y_pred, y)"
   ]
  },
  {
   "cell_type": "code",
   "execution_count": 11,
   "metadata": {},
   "outputs": [
    {
     "data": {
      "text/plain": [
       "array([ 1,  5, 10, 15, 20])"
      ]
     },
     "execution_count": 11,
     "metadata": {},
     "output_type": "execute_result"
    }
   ],
   "source": [
    "n_trees = np.arange(0, 21, 5)\n",
    "n_trees[0] = 1\n",
    "n_trees"
   ]
  },
  {
   "cell_type": "code",
   "execution_count": 12,
   "metadata": {},
   "outputs": [
    {
     "name": "stdout",
     "output_type": "stream",
     "text": [
      "Ntree 1\n",
      "Ntree 5\n",
      "Ntree 10\n",
      "Ntree 15\n",
      "Ntree 20\n"
     ]
    }
   ],
   "source": [
    "acc=[]\n",
    "\n",
    "for i in n_trees:\n",
    "    print(f'Ntree {i}')\n",
    "\n",
    "    bag = Bagging(num_trees=i)\n",
    "    bag.fit(X, y)\n",
    "\n",
    "    y_pred = bag.predict(X)\n",
    "    acc.append(accuracy(y_pred, y))\n",
    "    del(bag)"
   ]
  },
  {
   "cell_type": "code",
   "execution_count": 13,
   "metadata": {},
   "outputs": [
    {
     "data": {
      "text/plain": [
       "[<matplotlib.lines.Line2D at 0x1d0a1a06788>]"
      ]
     },
     "execution_count": 13,
     "metadata": {},
     "output_type": "execute_result"
    },
    {
     "data": {
      "image/png": "[encoded data removed]",
      "text/plain": [
       "<Figure size 432x288 with 1 Axes>"
      ]
     },
     "metadata": {
      "needs_background": "light"
     },
     "output_type": "display_data"
    }
   ],
   "source": [
    "plt.plot(n_trees, acc)"
   ]
  }
 ],
 "metadata": {
  "kernelspec": {
   "display_name": "Python 3",
   "language": "python",
   "name": "python3"
  },
  "language_info": {
   "codemirror_mode": {
    "name": "ipython",
    "version": 3
   },
   "file_extension": ".py",
   "mimetype": "text/x-python",
   "name": "python",
   "nbconvert_exporter": "python",
   "pygments_lexer": "ipython3",
   "version": "3.7.6"
  }
 },
 "nbformat": 4,
 "nbformat_minor": 4
}
