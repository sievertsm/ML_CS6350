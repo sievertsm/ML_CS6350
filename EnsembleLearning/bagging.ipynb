{
 "cells": [
  {
   "cell_type": "code",
   "execution_count": 1,
   "metadata": {},
   "outputs": [],
   "source": [
    "import pandas as pd\n",
    "import numpy as np\n",
    "import matplotlib.pyplot as plt\n",
    "import os\n",
    "import glob\n",
    "from scipy import stats"
   ]
  },
  {
   "cell_type": "code",
   "execution_count": 21,
   "metadata": {},
   "outputs": [],
   "source": [
    "from ensemble_learning import Bagging, accuracy, get_incremental_error, get_bias_variance_gse"
   ]
  },
  {
   "cell_type": "code",
   "execution_count": 3,
   "metadata": {},
   "outputs": [],
   "source": [
    "# read data\n",
    "cols = ['age', 'job', 'marital', 'education', 'default', 'balance', 'housing', 'loan', 'contact', 'day', 'month', 'duration', 'campaign', 'pdays', 'previous', 'poutcome', 'y']\n",
    "df_train = pd.read_csv('../data/bank/train.csv', names=cols)\n",
    "df_test  = pd.read_csv('../data/bank/test.csv', names=cols)\n",
    "\n",
    "# process numeric input\n",
    "medians = df_train.median()\n",
    "\n",
    "for col in medians.index:\n",
    "    df_train[col] = df_train[col].apply(lambda x: x > medians[col])\n",
    "    df_test[col] = df_test[col].apply(lambda x: x > medians[col])\n",
    "    \n",
    "# process labels\n",
    "label_dict={'yes': 1, 'no': -1}\n",
    "df_train['y'] = df_train['y'].map(label_dict)\n",
    "df_test['y'] = df_test['y'].map(label_dict)"
   ]
  },
  {
   "cell_type": "code",
   "execution_count": 4,
   "metadata": {},
   "outputs": [],
   "source": [
    "tgt = 'y'\n",
    "\n",
    "X_train = df_train.drop(tgt, axis=1).values\n",
    "y_train = df_train[tgt].values\n",
    "\n",
    "X_test = df_test.drop(tgt, axis=1).values\n",
    "y_test = df_test[tgt].values"
   ]
  },
  {
   "cell_type": "code",
   "execution_count": 10,
   "metadata": {},
   "outputs": [
    {
     "name": "stdout",
     "output_type": "stream",
     "text": [
      "Wall time: 1min 40s\n"
     ]
    }
   ],
   "source": [
    "%%time\n",
    "model = Bagging(num_trees=500)\n",
    "model.fit(X_train, y_train, m=1000)\n",
    "\n",
    "# y_pred = model.predict(X_train)\n",
    "# accuracy(y_pred, y_train)"
   ]
  },
  {
   "cell_type": "code",
   "execution_count": 11,
   "metadata": {},
   "outputs": [
    {
     "name": "stdout",
     "output_type": "stream",
     "text": [
      "Wall time: 2min 28s\n"
     ]
    }
   ],
   "source": [
    "%%time\n",
    "y_pred, t_pred = model.predict(X_train, individual=True)\n",
    "\n",
    "error_train=[]\n",
    "for i in range(t_pred.shape[1]):\n",
    "    i+=1\n",
    "    tp = t_pred[:, :i]\n",
    "    tp = stats.mode(tp, axis=1)[0].reshape(-1)\n",
    "    \n",
    "    error_train.append(1 - accuracy(tp, y_train))"
   ]
  },
  {
   "cell_type": "code",
   "execution_count": 12,
   "metadata": {},
   "outputs": [
    {
     "name": "stdout",
     "output_type": "stream",
     "text": [
      "Wall time: 2min 27s\n"
     ]
    }
   ],
   "source": [
    "%%time\n",
    "y_pred, t_pred = model.predict(X_test, individual=True)\n",
    "\n",
    "error_test=[]\n",
    "for i in range(t_pred.shape[1]):\n",
    "    i+=1\n",
    "    tp = t_pred[:, :i]\n",
    "    tp = stats.mode(tp, axis=1)[0].reshape(-1)\n",
    "    \n",
    "    error_test.append(1 - accuracy(tp, y_test))"
   ]
  },
  {
   "cell_type": "code",
   "execution_count": 15,
   "metadata": {},
   "outputs": [
    {
     "data": {
      "image/png": "[encoded data removed]",
      "text/plain": [
       "<Figure size 468x234 with 1 Axes>"
      ]
     },
     "metadata": {
      "needs_background": "light"
     },
     "output_type": "display_data"
    }
   ],
   "source": [
    "plt.figure(figsize=(6.5, 3.25))\n",
    "plt.plot(error_train, label='Training')\n",
    "plt.plot(error_test, label='Test')\n",
    "plt.ylabel('Error')\n",
    "plt.xlabel('Iteration')\n",
    "plt.legend()\n",
    "\n",
    "plt.tight_layout()\n",
    "# plt.savefig('p_bagging2.png', bbox_inchex='tight')\n",
    "\n",
    "plt.show()"
   ]
  },
  {
   "cell_type": "code",
   "execution_count": 17,
   "metadata": {},
   "outputs": [
    {
     "name": "stdout",
     "output_type": "stream",
     "text": [
      "Bagging Results T=500\n",
      "Training Error: 0.0862\n",
      "Test Error:     0.1076\n"
     ]
    }
   ],
   "source": [
    "print('Bagging Results T=500')\n",
    "print(f\"Training Error: {round(error_train[-1], 4)}\")\n",
    "print(f\"Test Error:     {round(error_test[-1], 4)}\")"
   ]
  },
  {
   "cell_type": "code",
   "execution_count": null,
   "metadata": {},
   "outputs": [],
   "source": []
  },
  {
   "cell_type": "code",
   "execution_count": null,
   "metadata": {},
   "outputs": [],
   "source": []
  },
  {
   "cell_type": "code",
   "execution_count": 18,
   "metadata": {},
   "outputs": [],
   "source": [
    "# %%time\n",
    "# choices = np.arange(len(X_train))\n",
    "\n",
    "# for i in range(100):\n",
    "    \n",
    "# #     if i % 5 == 0:\n",
    "# #         print(f\"beginning {i:03}\")\n",
    "\n",
    "#     # random index to subset data\n",
    "#     random_idx = np.random.choice(choices, size=1000, replace=False)\n",
    "\n",
    "#     # fit model\n",
    "#     model = Bagging(num_trees=500)\n",
    "#     model.fit(X_train[random_idx], y_train[random_idx])\n",
    "\n",
    "#     # get single tree precition\n",
    "#     y_pred_1 = model.trees[0].predict(X_test)\n",
    "\n",
    "#     # get bagging prediction\n",
    "#     y_pred_500 = model.predict(X_test)\n",
    "\n",
    "#     # write results\n",
    "#     results = pd.DataFrame({1: y_pred_1, 500: y_pred_500})\n",
    "#     results.to_csv(f\"./bagging_results/{i:03}.csv\", index=False)"
   ]
  },
  {
   "cell_type": "code",
   "execution_count": 19,
   "metadata": {},
   "outputs": [],
   "source": [
    "pred_1, pred_500 = [], []\n",
    "files = glob.glob('./bagging_results/*.csv')\n",
    "\n",
    "for fl in files:\n",
    "    temp = pd.read_csv(fl)\n",
    "    pred_1.append(temp['1'].values)\n",
    "    pred_500.append(temp['500'].values)\n",
    "\n",
    "pred_1 = np.array(pred_1)\n",
    "pred_500 = np.array(pred_500)"
   ]
  },
  {
   "cell_type": "code",
   "execution_count": 22,
   "metadata": {},
   "outputs": [],
   "source": [
    "bias1, var1, gse1 = get_bias_variance_gse(pred_1, y_test)\n",
    "bias5, var5, gse5 = get_bias_variance_gse(pred_500, y_test)"
   ]
  },
  {
   "cell_type": "code",
   "execution_count": 23,
   "metadata": {},
   "outputs": [
    {
     "name": "stdout",
     "output_type": "stream",
     "text": [
      "1:   Bias: 0.33797, Variance: 0.34426, GSE: 0.68223\n",
      "500: Bias: 0.34924, Variance: 0.21017, GSE: 0.55942\n"
     ]
    }
   ],
   "source": [
    "dp=5\n",
    "print(f\"1:   Bias: {bias1.round(dp)}, Variance: {var1.round(dp)}, GSE: {gse1.round(dp)}\")\n",
    "print(f\"500: Bias: {bias5.round(dp)}, Variance: {var5.round(dp)}, GSE: {gse5.round(dp)}\")"
   ]
  }
 ],
 "metadata": {
  "kernelspec": {
   "display_name": "Python 3",
   "language": "python",
   "name": "python3"
  },
  "language_info": {
   "codemirror_mode": {
    "name": "ipython",
    "version": 3
   },
   "file_extension": ".py",
   "mimetype": "text/x-python",
   "name": "python",
   "nbconvert_exporter": "python",
   "pygments_lexer": "ipython3",
   "version": "3.7.6"
  }
 },
 "nbformat": 4,
 "nbformat_minor": 4
}
