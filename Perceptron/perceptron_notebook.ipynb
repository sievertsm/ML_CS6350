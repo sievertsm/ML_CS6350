{
 "cells": [
  {
   "cell_type": "code",
   "execution_count": 1,
   "metadata": {},
   "outputs": [],
   "source": [
    "import numpy as np\n",
    "import pandas as pd\n",
    "from random import shuffle"
   ]
  },
  {
   "cell_type": "code",
   "execution_count": 2,
   "metadata": {},
   "outputs": [],
   "source": [
    "import matplotlib.pyplot as plt\n",
    "import seaborn as sns"
   ]
  },
  {
   "cell_type": "markdown",
   "metadata": {},
   "source": [
    "## Helper Functions\n",
    "### Read Data"
   ]
  },
  {
   "cell_type": "code",
   "execution_count": 3,
   "metadata": {},
   "outputs": [],
   "source": [
    "def read_bank_note(test=False, data_frame=False):\n",
    "    colnames=['variance', 'skewness', 'curtosis', 'entropy', 'y']\n",
    "    if test:\n",
    "        data = pd.read_csv('../data/bank-note/test.csv', header=None, names=colnames)\n",
    "    else:\n",
    "        data = pd.read_csv('../data/bank-note/train.csv', header=None, names=colnames)\n",
    "    data['y'] = data['y'].apply(lambda x: -1 if x<1 else 1)\n",
    "    if data_frame:\n",
    "        return data\n",
    "    else:\n",
    "        X = data.drop('y', axis=1).values\n",
    "        y = data['y'].values\n",
    "        return X, y"
   ]
  },
  {
   "cell_type": "markdown",
   "metadata": {},
   "source": [
    "### Perceptron functions"
   ]
  },
  {
   "cell_type": "code",
   "execution_count": 4,
   "metadata": {},
   "outputs": [],
   "source": [
    "def add_bias(X):\n",
    "    bias = np.ones(X.shape[0]).reshape(-1, 1)\n",
    "    X_fit = X.copy()\n",
    "    X_fit = np.concatenate([bias, X_fit], axis=1)\n",
    "    return X_fit"
   ]
  },
  {
   "cell_type": "code",
   "execution_count": 5,
   "metadata": {},
   "outputs": [],
   "source": [
    "def pos_neg(x):\n",
    "    return 1 if x > 0 else -1"
   ]
  },
  {
   "cell_type": "code",
   "execution_count": 6,
   "metadata": {},
   "outputs": [],
   "source": [
    "def get_sign(y):\n",
    "    return np.array(list(map(pos_neg, y)))"
   ]
  },
  {
   "cell_type": "code",
   "execution_count": 7,
   "metadata": {},
   "outputs": [],
   "source": [
    "def get_accuracy(y_pred, y):\n",
    "    return (y_pred == y).sum() / len(y)"
   ]
  },
  {
   "cell_type": "code",
   "execution_count": 8,
   "metadata": {},
   "outputs": [],
   "source": [
    "def get_error(y_pred, y):\n",
    "    return (y_pred != y).sum() / len(y)"
   ]
  },
  {
   "cell_type": "markdown",
   "metadata": {},
   "source": [
    "## Get Data"
   ]
  },
  {
   "cell_type": "code",
   "execution_count": 9,
   "metadata": {},
   "outputs": [],
   "source": [
    "X_train, y_train = read_bank_note(test=False)\n",
    "X_test, y_test = read_bank_note(test=True)"
   ]
  },
  {
   "cell_type": "markdown",
   "metadata": {},
   "source": [
    "## Standard"
   ]
  },
  {
   "cell_type": "code",
   "execution_count": 10,
   "metadata": {},
   "outputs": [],
   "source": [
    "def fit_standard(X, y, T, lr):\n",
    "    \n",
    "    # unpack X dimensions\n",
    "    N, D = X.shape\n",
    "    \n",
    "    # initialize weight to zeros\n",
    "    w = np.zeros(D)\n",
    "    \n",
    "    # get range of indicies\n",
    "    idx_order = np.arange(N)\n",
    "    \n",
    "    # loop for number of epochs T\n",
    "    for i in range(T):\n",
    "        \n",
    "        # shuffle data\n",
    "        shuffle(idx_order)\n",
    "        X = X[idx_order]\n",
    "        y = y[idx_order]\n",
    "        \n",
    "        # loop over each row b\n",
    "        for b in range(N):\n",
    "\n",
    "            # get current X and y\n",
    "            xi = X[b]\n",
    "            yi = y[b]\n",
    "\n",
    "            # multiply prediction by label\n",
    "            pred = yi * w.T.dot(xi)\n",
    "\n",
    "            # if misclassified update weight\n",
    "            if pred <= 0:\n",
    "                w = w + lr * yi * xi\n",
    "\n",
    "    return w"
   ]
  },
  {
   "cell_type": "code",
   "execution_count": 11,
   "metadata": {},
   "outputs": [],
   "source": [
    "def predict_standard(X, w):\n",
    "    \n",
    "    # get prediction\n",
    "    y_pred = X.dot(w)\n",
    "    \n",
    "    # get sign of prediction\n",
    "    y_pred = get_sign(y_pred)\n",
    "    \n",
    "    return y_pred"
   ]
  },
  {
   "cell_type": "markdown",
   "metadata": {},
   "source": [
    "## Voted"
   ]
  },
  {
   "cell_type": "code",
   "execution_count": 12,
   "metadata": {},
   "outputs": [],
   "source": [
    "def fit_voted(X, y, T, lr):\n",
    "    \n",
    "    # unpack X dimensions\n",
    "    N, D = X.shape\n",
    "    \n",
    "    # initialize weight to zeros (reshape to store multiple)\n",
    "    w = np.zeros(D).reshape(1, -1)\n",
    "    \n",
    "    # get range of indicies\n",
    "    idx_order = np.arange(N)\n",
    "    \n",
    "    # initialize m and C\n",
    "    m=0\n",
    "    C = np.array([0])\n",
    "    \n",
    "    # loop for number of epochs T\n",
    "    for i in range(T):\n",
    "        \n",
    "        # shuffle data\n",
    "        shuffle(idx_order)\n",
    "        X = X[idx_order]\n",
    "        y = y[idx_order]\n",
    "        \n",
    "        # loop over each row\n",
    "        for b in range(N):\n",
    "\n",
    "            # get current X and y\n",
    "            xi = X[b]\n",
    "            yi = y[b]\n",
    "\n",
    "            # multiply prediction by label\n",
    "            pred = yi * w[m].T.dot(xi)\n",
    "\n",
    "            # if misclassified update weight\n",
    "            if pred <= 0:\n",
    "                w_next = w[m].copy() + lr * yi * xi\n",
    "                w = np.concatenate([w, w_next.reshape(1, -1)], axis=0)\n",
    "                \n",
    "                # update m and C\n",
    "                m += 1\n",
    "                C = np.concatenate([C, np.array([1])])\n",
    "                \n",
    "            # if correct add a count to current C\n",
    "            else:\n",
    "                C[m] += 1\n",
    "\n",
    "    return w, C"
   ]
  },
  {
   "cell_type": "code",
   "execution_count": 13,
   "metadata": {},
   "outputs": [],
   "source": [
    "def predict_voted(X, w, C):\n",
    "    \n",
    "    # initialize predictions to all zeros\n",
    "    y_pred = np.zeros(X.shape[0])\n",
    "    \n",
    "    # loop over each weight vector\n",
    "    for i in range(len(w)):\n",
    "        \n",
    "        # get prediction from current weight\n",
    "        sgn = X.dot(w[i])\n",
    "        \n",
    "        # get sign of prediction and multiply by vote C\n",
    "        sgn = C[i] * get_sign(sgn)\n",
    "        \n",
    "        # add predictions to y_pred\n",
    "        y_pred += sgn\n",
    "        \n",
    "    # get sign of voted predictions\n",
    "    y_pred = get_sign(y_pred)\n",
    "    return y_pred"
   ]
  },
  {
   "cell_type": "markdown",
   "metadata": {},
   "source": [
    "## Averaged"
   ]
  },
  {
   "cell_type": "code",
   "execution_count": 14,
   "metadata": {},
   "outputs": [],
   "source": [
    "def fit_averaged(X, y, T, lr):\n",
    "    \n",
    "    # unpack X dimensions\n",
    "    N, D = X.shape\n",
    "    \n",
    "    # initialize weight and average to zeros\n",
    "    w = np.zeros(D)\n",
    "    a = np.zeros(D)\n",
    "    \n",
    "    # get range of indicies\n",
    "    idx_order = np.arange(N)\n",
    "    \n",
    "    # loop for number of epochs T\n",
    "    for i in range(T):\n",
    "        \n",
    "        # shuffle data\n",
    "        shuffle(idx_order)\n",
    "        X = X[idx_order]\n",
    "        y = y[idx_order]\n",
    "        \n",
    "        # loop over each row\n",
    "        for b in range(N):\n",
    "\n",
    "            # get current X and y\n",
    "            xi = X[b]\n",
    "            yi = y[b]\n",
    "\n",
    "            # multiply prediction by label\n",
    "            pred = yi * w.T.dot(xi)\n",
    "\n",
    "            # if misclassified update weight\n",
    "            if pred <= 0:\n",
    "                w = w + lr * yi * xi\n",
    "                \n",
    "            # add weight to average\n",
    "            a = a + w\n",
    "\n",
    "    return a"
   ]
  },
  {
   "cell_type": "markdown",
   "metadata": {},
   "source": [
    "## Perceptron"
   ]
  },
  {
   "cell_type": "code",
   "execution_count": 15,
   "metadata": {},
   "outputs": [],
   "source": [
    "class Perceptron(object):\n",
    "    \n",
    "    def __init__(self, version='standard', lr=0.01):\n",
    "        \n",
    "        self.version = version\n",
    "        self.lr = lr\n",
    "        \n",
    "    def fit(self, X, y, T=10):\n",
    "        \n",
    "        # add bias term to X\n",
    "        X_fit = add_bias(X)\n",
    "#         X_fit = X.copy()\n",
    "        \n",
    "        # fit to data according to the version of perceptron\n",
    "        if self.version == 'standard':\n",
    "            self.w = fit_standard(X_fit, y, T, self.lr)\n",
    "        if self.version == 'voted':\n",
    "            self.w, self.c = fit_voted(X_fit, y, T, self.lr)\n",
    "        if self.version == 'averaged':\n",
    "            self.w = fit_averaged(X_fit, y, T, self.lr)\n",
    "            \n",
    "        \n",
    "    def predict(self, X):\n",
    "        \n",
    "        # add bias term to X\n",
    "        X_pred = add_bias(X)\n",
    "#         X_pred = X.copy()\n",
    "        \n",
    "        # make predictions according to the version of perceptron\n",
    "        if self.version == 'standard':\n",
    "            y_pred = predict_standard(X_pred, self.w)\n",
    "        if self.version == 'voted':\n",
    "            y_pred = predict_voted(X_pred, self.w, self.c)\n",
    "        if self.version == 'averaged':\n",
    "            y_pred = predict_standard(X_pred, self.w)\n",
    "            \n",
    "        return y_pred"
   ]
  },
  {
   "cell_type": "markdown",
   "metadata": {},
   "source": [
    "## Results\n",
    "### Review Test Predictions and Weights"
   ]
  },
  {
   "cell_type": "code",
   "execution_count": 16,
   "metadata": {},
   "outputs": [
    {
     "name": "stdout",
     "output_type": "stream",
     "text": [
      "Problem 2.2a\n",
      "Standard Perceptron:\n",
      "test error: 0.014\n",
      "weights\n",
      "[ 0.54       -0.61015657 -0.339047   -0.38618123 -0.13243292]\n",
      "\n",
      "Problem 2.2b\n",
      "Voted Perceptron:\n",
      "test error: 0.014\n",
      "weights\n",
      "[[ 0.          0.          0.          0.          0.        ]\n",
      " [ 0.01       -0.070421    0.092       0.0025933  -0.046832  ]\n",
      " [ 0.         -0.043942   -0.009374    0.0159033   0.007875  ]\n",
      " ...\n",
      " [ 0.55       -0.55804411 -0.3649695  -0.41791749 -0.13931933]\n",
      " [ 0.56       -0.53786711 -0.3469875  -0.44749849 -0.13722033]\n",
      " [ 0.57       -0.55793311 -0.4141775  -0.35733649 -0.13622048]]\n",
      "votes\n",
      "[  0   1   2  19   1   1   1   7   3   2   3   6   9  27   2  12   2  13\n",
      "  21   3  38   5  12   9   3  30  14  15   6   9  44   4   2  30  14   1\n",
      "   1   6  10   1  10   8   2  71  11  51  55  67  12  23  20  11   3  23\n",
      "  18   5  46 120  61  79  22  17  43  23  20  10  81   4  54   7   5  12\n",
      "  49   3   4  37   8   4  23   9   7  68  31  20   5   3  95  45  14   3\n",
      "  35  44  32  16  13   1   6   8   1 106 129   4 285  17  14   6   1  40\n",
      "  27  71  81  46   4  10  39   7   7  76  11  14  41  12  57  43   1  19\n",
      " 124  35  69  51   8  23  44  25  46   2  18  34  73   5  42 120  42 157\n",
      "   6 128  23 106  52   5   1   6  43   5   9   8  12  21   7  40 352  10\n",
      "   3  24  45  13  63  11  17  50  12 147 279  69   5  17  10  69  16  40\n",
      "   7  37  31   9   4  23 179  30   2  12  22  15  30  11  59   4  10  18\n",
      "  47 100  19 129  31  58  35   8   8  22  13  23 158  11 136 214  47  31\n",
      "  71  26  12   5  91   4  19  60  13  13  68  35   3  33   3   7  55  22\n",
      "   7  49  38  35  51   4  45   6  78 111  71  54  17  59  79   4  93   9]\n",
      "\n",
      "Problem 2.2c\n",
      "Averaged Perceptron:\n",
      "test error: 0.014\n",
      "weights\n",
      "[ 3462.38       -4294.3684999  -2809.3654843  -2938.9691656\n",
      "  -901.06970232]\n"
     ]
    }
   ],
   "source": [
    "lr=0.01\n",
    "model_stnd = Perceptron(version='standard', lr=lr)\n",
    "model_vote = Perceptron(version='voted', lr=lr)\n",
    "model_avrg = Perceptron(version='averaged', lr=lr)\n",
    "\n",
    "model_stnd.fit(X_train, y_train)\n",
    "print('Problem 2.2a')\n",
    "print('Standard Perceptron:')\n",
    "print(f'test error: {get_error(model_stnd.predict(X_test), y_test)}')\n",
    "print('weights')\n",
    "print(model_stnd.w)\n",
    "\n",
    "model_vote.fit(X_train, y_train)\n",
    "print('\\nProblem 2.2b')\n",
    "print('Voted Perceptron:')\n",
    "print(f'test error: {get_error(model_vote.predict(X_test), y_test)}')\n",
    "print('weights')\n",
    "print(model_vote.w)\n",
    "print('votes')\n",
    "print(model_vote.c)\n",
    "\n",
    "model_avrg.fit(X_train, y_train)\n",
    "print('\\nProblem 2.2c')\n",
    "print('Averaged Perceptron:')\n",
    "print(f'test error: {get_error(model_avrg.predict(X_test), y_test)}')\n",
    "print('weights')\n",
    "print(model_avrg.w)"
   ]
  },
  {
   "cell_type": "markdown",
   "metadata": {},
   "source": [
    "### Review Multiple Predictions"
   ]
  },
  {
   "cell_type": "code",
   "execution_count": 20,
   "metadata": {},
   "outputs": [],
   "source": [
    "# fit data with every version of perceptron multiple times\n",
    "iterations=100\n",
    "lr = 0.01\n",
    "T = 10\n",
    "\n",
    "results_train={'standard': [], 'voted': [], 'averaged': []}\n",
    "results_test={'standard': [], 'voted': [], 'averaged': []}\n",
    "\n",
    "for ver in ['standard', 'voted', 'averaged']:\n",
    "    model = Perceptron(version=ver, lr=lr)\n",
    "    \n",
    "    for i in range(iterations):\n",
    "        model.fit(X_train, y_train, T=T)\n",
    "        y_pred_train = model.predict(X_train)\n",
    "        y_pred_test = model.predict(X_test)\n",
    "        \n",
    "        results_train[ver].append(get_error(y_pred_train, y_train))\n",
    "        results_test[ver].append(get_error(y_pred_test, y_test))\n",
    "        \n",
    "results_train = pd.DataFrame(results_train)\n",
    "results_test = pd.DataFrame(results_test)\n",
    "\n",
    "r_train = pd.melt(results_train)\n",
    "r_train['Data'] = 'Train'\n",
    "\n",
    "r_test = pd.melt(results_test)\n",
    "r_test['Data'] = 'Test'\n",
    "\n",
    "results = pd.concat([r_train, r_test])\n",
    "results.columns=['Method', 'Error', 'Data']\n",
    "results['Method'] = results['Method'].apply(lambda x: x.capitalize())"
   ]
  },
  {
   "cell_type": "code",
   "execution_count": 21,
   "metadata": {},
   "outputs": [
    {
     "name": "stdout",
     "output_type": "stream",
     "text": [
      "Average Training Error Over 100 Iterations\n",
      "standard    0.017672\n",
      "voted       0.012225\n",
      "averaged    0.013853\n",
      "dtype: float64\n",
      "\n",
      "Average Test Error Over 100 Iterations\n",
      "standard    0.01964\n",
      "voted       0.01366\n",
      "averaged    0.01384\n",
      "dtype: float64\n"
     ]
    }
   ],
   "source": [
    "print(f'Average Training Error Over {iterations} Iterations')\n",
    "print(results_train.mean())\n",
    "print(f'\\nAverage Test Error Over {iterations} Iterations')\n",
    "print(results_test.mean())"
   ]
  },
  {
   "cell_type": "code",
   "execution_count": 22,
   "metadata": {},
   "outputs": [
    {
     "data": {
      "image/png": "[encoded data removed]",
      "text/plain": [
       "<Figure size 720x288 with 2 Axes>"
      ]
     },
     "metadata": {
      "needs_background": "light"
     },
     "output_type": "display_data"
    }
   ],
   "source": [
    "fig, ax = plt.subplots(nrows=1, ncols=2, figsize=(10, 4))\n",
    "sns.boxplot(data=results, x='Method', y='Error', hue='Data', palette='Spectral', showfliers=True, ax=ax[0])\n",
    "sns.boxplot(data=results, x='Method', y='Error', hue='Data', palette='Spectral', showfliers=False, ax=ax[1])\n",
    "ax[0].set_title(f'Test Error Over {iterations} Iterations')\n",
    "ax[1].set_title(f'Test Error Over {iterations} Iterations No Outliers')\n",
    "fig.tight_layout()\n",
    "plt.show()"
   ]
  }
 ],
 "metadata": {
  "kernelspec": {
   "display_name": "Python 3",
   "language": "python",
   "name": "python3"
  },
  "language_info": {
   "codemirror_mode": {
    "name": "ipython",
    "version": 3
   },
   "file_extension": ".py",
   "mimetype": "text/x-python",
   "name": "python",
   "nbconvert_exporter": "python",
   "pygments_lexer": "ipython3",
   "version": "3.7.6"
  }
 },
 "nbformat": 4,
 "nbformat_minor": 4
}
