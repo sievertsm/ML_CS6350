{
 "cells": [
  {
   "cell_type": "code",
   "execution_count": 1,
   "metadata": {},
   "outputs": [],
   "source": [
    "import numpy as np\n",
    "import pandas as pd\n",
    "from random import shuffle"
   ]
  },
  {
   "cell_type": "markdown",
   "metadata": {},
   "source": [
    "## Helper Functions"
   ]
  },
  {
   "cell_type": "code",
   "execution_count": 2,
   "metadata": {},
   "outputs": [],
   "source": [
    "def read_bank_note(test=False, data_frame=False):\n",
    "    colnames=['variance', 'skewness', 'curtosis', 'entropy', 'y']\n",
    "    if test:\n",
    "        data = pd.read_csv('../data/bank-note/test.csv', header=None, names=colnames)\n",
    "    else:\n",
    "        data = pd.read_csv('../data/bank-note/train.csv', header=None, names=colnames)\n",
    "    data['y'] = data['y'].apply(lambda x: -1 if x<1 else 1)\n",
    "    if data_frame:\n",
    "        return data\n",
    "    else:\n",
    "        X = data.drop('y', axis=1).values\n",
    "        y = data['y'].values\n",
    "        return X, y"
   ]
  },
  {
   "cell_type": "code",
   "execution_count": 3,
   "metadata": {},
   "outputs": [],
   "source": [
    "def add_bias(X):\n",
    "    bias = np.ones(X.shape[0]).reshape(-1, 1)\n",
    "    X_fit = X.copy()\n",
    "    X_fit = np.concatenate([bias, X_fit], axis=1)\n",
    "    return X_fit"
   ]
  },
  {
   "cell_type": "code",
   "execution_count": 4,
   "metadata": {},
   "outputs": [],
   "source": [
    "def pos_neg(x):\n",
    "    return 1 if x > 0 else -1"
   ]
  },
  {
   "cell_type": "code",
   "execution_count": 5,
   "metadata": {},
   "outputs": [],
   "source": [
    "def get_sign(y):\n",
    "    return np.array(list(map(pos_neg, y)))"
   ]
  },
  {
   "cell_type": "code",
   "execution_count": 6,
   "metadata": {},
   "outputs": [],
   "source": [
    "def get_accuracy(y_pred, y):\n",
    "    return (y_pred == y).sum() / len(y)"
   ]
  },
  {
   "cell_type": "code",
   "execution_count": 7,
   "metadata": {},
   "outputs": [],
   "source": [
    "def get_error(y_pred, y):\n",
    "    return (y_pred != y).sum() / len(y)"
   ]
  },
  {
   "cell_type": "markdown",
   "metadata": {},
   "source": [
    "## Get Data"
   ]
  },
  {
   "cell_type": "code",
   "execution_count": 8,
   "metadata": {},
   "outputs": [],
   "source": [
    "X_train, y_train = read_bank_note(test=False)\n",
    "X_test, y_test = read_bank_note(test=True)"
   ]
  },
  {
   "cell_type": "markdown",
   "metadata": {},
   "source": [
    "## Standard"
   ]
  },
  {
   "cell_type": "code",
   "execution_count": 9,
   "metadata": {},
   "outputs": [],
   "source": [
    "def fit_standard(X, y, T, lr):\n",
    "    \n",
    "    N, D = X.shape\n",
    "    \n",
    "    w = np.zeros(D)\n",
    "    idx_order = np.arange(N)\n",
    "    \n",
    "    for i in range(T):\n",
    "        shuffle(idx_order)\n",
    "        X = X[idx_order]\n",
    "        for b in range(N):\n",
    "\n",
    "            xi = X[i]\n",
    "            yi = y[i]\n",
    "\n",
    "            pred = yi * w.T.dot(xi)\n",
    "\n",
    "            if pred <= 0:\n",
    "                w = w + lr * yi * xi\n",
    "\n",
    "    return w"
   ]
  },
  {
   "cell_type": "code",
   "execution_count": 10,
   "metadata": {},
   "outputs": [],
   "source": [
    "def predict_standard(X, w):\n",
    "    \n",
    "    y_pred = X.dot(w)\n",
    "    y_pred = get_sign(y_pred)\n",
    "    \n",
    "    return y_pred"
   ]
  },
  {
   "cell_type": "markdown",
   "metadata": {},
   "source": [
    "## Voted"
   ]
  },
  {
   "cell_type": "code",
   "execution_count": 11,
   "metadata": {},
   "outputs": [],
   "source": [
    "def fit_voted(X, y, T, lr):\n",
    "    \n",
    "    N, D = X.shape\n",
    "    \n",
    "    w = np.zeros(D).reshape(1, -1)\n",
    "    idx_order = np.arange(N)\n",
    "    \n",
    "    m=0\n",
    "    C = np.array([0])\n",
    "    \n",
    "    for i in range(T):\n",
    "        shuffle(idx_order)\n",
    "        X = X[idx_order]\n",
    "        for b in range(N):\n",
    "\n",
    "            xi = X[i]\n",
    "            yi = y[i]\n",
    "\n",
    "            pred = yi * w[m].T.dot(xi)\n",
    "\n",
    "            if pred <= 0:\n",
    "                w_next = w[m].copy() + lr * yi * xi\n",
    "                w = np.concatenate([w, w_next.reshape(1, -1)], axis=0)\n",
    "                m += 1\n",
    "                C = np.concatenate([C, np.array([1])])\n",
    "                \n",
    "            else:\n",
    "                C[m] += 1\n",
    "\n",
    "    return w, C"
   ]
  },
  {
   "cell_type": "code",
   "execution_count": 12,
   "metadata": {},
   "outputs": [],
   "source": [
    "def predict_voted(X, w, C):\n",
    "    \n",
    "    y_pred = np.zeros(X.shape[0])\n",
    "    \n",
    "    for i in range(len(w)):\n",
    "        sgn = X.dot(w[i])\n",
    "        sgn = C[i] * get_sign(sgn)\n",
    "        y_pred += sgn\n",
    "        \n",
    "    y_pred = get_sign(y_pred)\n",
    "    return y_pred"
   ]
  },
  {
   "cell_type": "markdown",
   "metadata": {},
   "source": [
    "## Averaged"
   ]
  },
  {
   "cell_type": "code",
   "execution_count": 13,
   "metadata": {},
   "outputs": [],
   "source": [
    "def fit_averaged(X, y, T, lr):\n",
    "    \n",
    "    N, D = X.shape\n",
    "    \n",
    "    w = np.zeros(D)\n",
    "    a = np.zeros(D)\n",
    "    idx_order = np.arange(N)\n",
    "    \n",
    "    for i in range(T):\n",
    "        shuffle(idx_order)\n",
    "        X = X[idx_order]\n",
    "        for b in range(N):\n",
    "\n",
    "            xi = X[i]\n",
    "            yi = y[i]\n",
    "\n",
    "            pred = yi * w.T.dot(xi)\n",
    "\n",
    "            if pred <= 0:\n",
    "                w = w + lr * yi * xi\n",
    "                \n",
    "            a = a + w\n",
    "\n",
    "    return a"
   ]
  },
  {
   "cell_type": "markdown",
   "metadata": {},
   "source": [
    "## Perceptron"
   ]
  },
  {
   "cell_type": "code",
   "execution_count": 14,
   "metadata": {},
   "outputs": [],
   "source": [
    "class Perceptron(object):\n",
    "    \n",
    "    def __init__(self, version='standard', lr=0.1):\n",
    "        \n",
    "        self.version = version\n",
    "        self.lr = lr\n",
    "        \n",
    "    def fit(self, X, y, T=10):\n",
    "        \n",
    "        X_fit = add_bias(X)\n",
    "        \n",
    "        if self.version == 'standard':\n",
    "            self.w = fit_standard(X_fit, y, T, self.lr)\n",
    "        if self.version == 'voted':\n",
    "            self.w, self.c = fit_voted(X_fit, y, T, self.lr)\n",
    "        if self.version == 'averaged':\n",
    "            self.w = fit_averaged(X_fit, y, T, self.lr)\n",
    "            \n",
    "        \n",
    "    def predict(self, X):\n",
    "        \n",
    "        X_pred = add_bias(X)\n",
    "        \n",
    "        if self.version == 'standard':\n",
    "            y_pred = predict_standard(X_pred, self.w)\n",
    "        if self.version == 'voted':\n",
    "            y_pred = predict_voted(X_pred, self.w, self.c)\n",
    "        if self.version == 'averaged':\n",
    "            y_pred = predict_standard(X_pred, self.w)\n",
    "            \n",
    "        return y_pred"
   ]
  },
  {
   "cell_type": "markdown",
   "metadata": {},
   "source": [
    "## Results"
   ]
  },
  {
   "cell_type": "code",
   "execution_count": 45,
   "metadata": {},
   "outputs": [
    {
     "name": "stdout",
     "output_type": "stream",
     "text": [
      "Standard\n",
      "Error:    0.6307\n",
      "Accuracy: 0.3693\n",
      "\n",
      "Voted\n",
      "Error:    0.4014\n",
      "Accuracy: 0.5986\n",
      "\n",
      "Averaged\n",
      "Error:    0.6124\n",
      "Accuracy: 0.3876\n",
      "\n"
     ]
    }
   ],
   "source": [
    "lr = 0.01\n",
    "T = 100\n",
    "\n",
    "for ver in ['standard', 'voted', 'averaged']:\n",
    "    model = Perceptron(version=ver, lr=lr)\n",
    "    model.fit(X_train, y_train, T=T)\n",
    "    y_pred = model.predict(X_train)\n",
    "    print(ver.capitalize())\n",
    "    print(f\"Error:    {round(get_error(y_pred, y_train), 4)}\")\n",
    "    print(f\"Accuracy: {round(get_accuracy(y_pred, y_train), 4)}\\n\")"
   ]
  }
 ],
 "metadata": {
  "kernelspec": {
   "display_name": "Python 3",
   "language": "python",
   "name": "python3"
  },
  "language_info": {
   "codemirror_mode": {
    "name": "ipython",
    "version": 3
   },
   "file_extension": ".py",
   "mimetype": "text/x-python",
   "name": "python",
   "nbconvert_exporter": "python",
   "pygments_lexer": "ipython3",
   "version": "3.7.6"
  }
 },
 "nbformat": 4,
 "nbformat_minor": 4
}
