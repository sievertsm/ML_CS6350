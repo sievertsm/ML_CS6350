{
 "cells": [
  {
   "cell_type": "code",
   "execution_count": 1,
   "metadata": {},
   "outputs": [],
   "source": [
    "import pandas as pd\n",
    "import numpy as np\n",
    "import matplotlib.pyplot as plt"
   ]
  },
  {
   "cell_type": "code",
   "execution_count": 2,
   "metadata": {},
   "outputs": [],
   "source": [
    "from linear_regression import LinearRegression, optimal_weight_vector"
   ]
  },
  {
   "cell_type": "markdown",
   "metadata": {},
   "source": [
    "## Read In Data"
   ]
  },
  {
   "cell_type": "code",
   "execution_count": 3,
   "metadata": {},
   "outputs": [],
   "source": [
    "# read in data\n",
    "cols=['Cement', 'Slag', 'Fly ash', 'Water', 'SP', 'Coarse Aggr', 'Fine Aggr', 'Slump']\n",
    "df_train = pd.read_csv('../data/concrete/train.csv', names=cols)\n",
    "df_test = pd.read_csv('../data/concrete/test.csv', names=cols)\n",
    "\n",
    "X = df_train.drop('Slump', axis=1).values\n",
    "y = df_train['Slump'].values"
   ]
  },
  {
   "cell_type": "code",
   "execution_count": 4,
   "metadata": {},
   "outputs": [],
   "source": [
    "# get optimal weight vector\n",
    "optimal_weight = optimal_weight_vector(X, y)"
   ]
  },
  {
   "cell_type": "markdown",
   "metadata": {},
   "source": [
    "## Train Models\n",
    "### Batch"
   ]
  },
  {
   "cell_type": "code",
   "execution_count": 5,
   "metadata": {},
   "outputs": [
    {
     "name": "stdout",
     "output_type": "stream",
     "text": [
      "Weights\n",
      "[-0.01520362  0.90022499  0.78594341  0.85066508  1.29862298  0.12983393\n",
      "  1.5717928   0.99834709]\n",
      "\n",
      "Norm with Optimal\n",
      "0.0008862770719391832\n"
     ]
    }
   ],
   "source": [
    "# fit data with batch method\n",
    "model_batch = LinearRegression(tol=1e-6)\n",
    "model_batch.fit(X, y, r=1e-2, method='batch')\n",
    "\n",
    "print('Weights')\n",
    "print(model_batch.W)\n",
    "\n",
    "print('\\nNorm with Optimal')\n",
    "print(np.linalg.norm((optimal_weight - model_batch.W)))"
   ]
  },
  {
   "cell_type": "markdown",
   "metadata": {},
   "source": [
    "### SGD"
   ]
  },
  {
   "cell_type": "code",
   "execution_count": 6,
   "metadata": {},
   "outputs": [
    {
     "name": "stdout",
     "output_type": "stream",
     "text": [
      "Weights\n",
      "[-0.05283472  0.9757493   0.85739701  0.94184067  1.33384535  0.17106412\n",
      "  1.6573061   1.08155626]\n",
      "\n",
      "Norm with Optimal\n",
      "0.19335743340501926\n"
     ]
    }
   ],
   "source": [
    "# fit data with sgd method\n",
    "model_sgd = LinearRegression(tol=1e-6)\n",
    "model_sgd.fit(X, y, r=10e-3, method='sgd')\n",
    "# model_sgd.fit(X, y, r=1e-3, method='sgd', max_iter=1e6) # better norm\n",
    "\n",
    "print('Weights')\n",
    "print(model_sgd.W)\n",
    "\n",
    "print('\\nNorm with Optimal')\n",
    "print(np.linalg.norm((optimal_weight - model_sgd.W)))"
   ]
  },
  {
   "cell_type": "markdown",
   "metadata": {},
   "source": [
    "## Visualize Results"
   ]
  },
  {
   "cell_type": "code",
   "execution_count": 7,
   "metadata": {},
   "outputs": [
    {
     "data": {
      "image/png": "[encoded data removed]",
      "text/plain": [
       "<Figure size 432x288 with 2 Axes>"
      ]
     },
     "metadata": {
      "needs_background": "light"
     },
     "output_type": "display_data"
    }
   ],
   "source": [
    "fig, ax = plt.subplots(nrows=1, ncols=2)\n",
    "\n",
    "ax[0].plot(model_batch.loss)\n",
    "ax[1].plot(model_sgd.loss)\n",
    "\n",
    "for i, title in enumerate(['Batch', 'SGD']):\n",
    "    ax[i].set_title(title)\n",
    "    ax[i].set_xlabel('Update')\n",
    "    ax[i].set_ylabel('Loss (MSE)')\n",
    "\n",
    "fig.tight_layout()"
   ]
  },
  {
   "cell_type": "code",
   "execution_count": 8,
   "metadata": {},
   "outputs": [
    {
     "name": "stdout",
     "output_type": "stream",
     "text": [
      "Batch converged after: 7094 iterations\n",
      "SGD converged after:   6948 iterations\n"
     ]
    }
   ],
   "source": [
    "# check iterations to convergence\n",
    "print(f\"Batch converged after: {len(model_batch.loss)} iterations\")\n",
    "print(f\"SGD converged after:   {len(model_sgd.loss)} iterations\")"
   ]
  }
 ],
 "metadata": {
  "kernelspec": {
   "display_name": "Python 3",
   "language": "python",
   "name": "python3"
  },
  "language_info": {
   "codemirror_mode": {
    "name": "ipython",
    "version": 3
   },
   "file_extension": ".py",
   "mimetype": "text/x-python",
   "name": "python",
   "nbconvert_exporter": "python",
   "pygments_lexer": "ipython3",
   "version": "3.7.6"
  }
 },
 "nbformat": 4,
 "nbformat_minor": 4
}
