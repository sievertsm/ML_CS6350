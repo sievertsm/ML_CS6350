{
 "cells": [
  {
   "cell_type": "code",
   "execution_count": 5,
   "metadata": {},
   "outputs": [],
   "source": [
    "import pandas as pd\n",
    "import numpy as np\n",
    "import matplotlib.pyplot as plt"
   ]
  },
  {
   "cell_type": "markdown",
   "metadata": {},
   "source": [
    "$$J(w) = \\frac{1}{2} \\sum_{i=1}^m (y_i - w^T xi)^2$$"
   ]
  },
  {
   "cell_type": "code",
   "execution_count": 6,
   "metadata": {},
   "outputs": [],
   "source": [
    "# np.random.seed(101)\n",
    "\n",
    "# N=10\n",
    "# M=3\n",
    "\n",
    "# x = np.random.uniform(size=(N, M))\n",
    "# y = np.random.uniform(size=(N))\n",
    "\n",
    "# w = np.random.uniform(size=(M+1))"
   ]
  },
  {
   "cell_type": "code",
   "execution_count": 39,
   "metadata": {},
   "outputs": [],
   "source": [
    "def get_prediction(x, w):\n",
    "    '''\n",
    "    Input:\n",
    "    x -- (N, M)\n",
    "    w -- (M+1,)\n",
    "    \n",
    "    Output:\n",
    "    pred -- (N,)\n",
    "    '''\n",
    "#     w0 = w[0]\n",
    "#     wm = w[1:]\n",
    "#     pred = w0 + x.dot(wm)\n",
    "\n",
    "    pred = x.dot(w)\n",
    "    \n",
    "    return pred"
   ]
  },
  {
   "cell_type": "code",
   "execution_count": 40,
   "metadata": {},
   "outputs": [],
   "source": [
    "def mean_square_loss(y, pred):\n",
    "    \n",
    "    J = (y - pred)**2\n",
    "    J = 0.5 * J.sum()\n",
    "    \n",
    "    return J"
   ]
  },
  {
   "cell_type": "code",
   "execution_count": 41,
   "metadata": {},
   "outputs": [],
   "source": [
    "def compute_gradient(x, y, pred):\n",
    "    grad = y - pred\n",
    "    grad = grad.dot(x)\n",
    "    \n",
    "    return -grad"
   ]
  },
  {
   "cell_type": "code",
   "execution_count": 42,
   "metadata": {},
   "outputs": [],
   "source": [
    "def next_weight(w, grad, r):\n",
    "    w = w - r * grad\n",
    "    return w\n",
    "    \n",
    "    \n",
    "#     w0 = w[0]\n",
    "#     wm = w[1:]\n",
    "\n",
    "#     w0 = w0 - r * grad.sum()\n",
    "#     wm = wm - r * grad\n",
    "    \n",
    "#     return np.concatenate([np.array([w0]), wm])"
   ]
  },
  {
   "cell_type": "code",
   "execution_count": null,
   "metadata": {},
   "outputs": [],
   "source": []
  },
  {
   "cell_type": "code",
   "execution_count": 342,
   "metadata": {},
   "outputs": [],
   "source": [
    "x = np.array([[1, 1, -1, 1, 3],\n",
    "            [-1, 1, 1, 2, -1],\n",
    "            [2, 3, 0, -4, -1]])\n",
    "x = x.T\n",
    "\n",
    "b = np.ones_like(x[:,0]).reshape(-1, 1)\n",
    "x = np.concatenate([b, x], axis=1)\n",
    "\n",
    "y = np.array([1, 4, -1, -2, 0])"
   ]
  },
  {
   "cell_type": "code",
   "execution_count": null,
   "metadata": {},
   "outputs": [],
   "source": []
  },
  {
   "cell_type": "code",
   "execution_count": 347,
   "metadata": {},
   "outputs": [],
   "source": [
    "N, M = x.shape\n",
    "\n",
    "np.random.seed(101)\n",
    "w = np.random.normal(size=(M))"
   ]
  },
  {
   "cell_type": "code",
   "execution_count": 351,
   "metadata": {},
   "outputs": [
    {
     "data": {
      "image/png": "[encoded data removed]",
      "text/plain": [
       "<Figure size 432x288 with 1 Axes>"
      ]
     },
     "metadata": {
      "needs_background": "light"
     },
     "output_type": "display_data"
    },
    {
     "data": {
      "image/png": "[encoded data removed]",
      "text/plain": [
       "<Figure size 432x288 with 1 Axes>"
      ]
     },
     "metadata": {
      "needs_background": "light"
     },
     "output_type": "display_data"
    },
    {
     "name": "stdout",
     "output_type": "stream",
     "text": [
      "5.148379828563131e-10\n"
     ]
    }
   ],
   "source": [
    "iters=500\n",
    "r=0.02\n",
    "\n",
    "all_loss=[]\n",
    "predicted=[]\n",
    "\n",
    "for i in range(iters):\n",
    "    pred = get_prediction(x, w)\n",
    "    loss = mean_square_loss(y, pred)\n",
    "    grad = compute_gradient(x, y, pred)\n",
    "    w = next_weight(w, grad, r)\n",
    "    \n",
    "    predicted.append(pred)\n",
    "    all_loss.append(loss)\n",
    "    \n",
    "plt.plot(all_loss)\n",
    "plt.show()\n",
    "plt.scatter(y, pred)\n",
    "plt.show()\n",
    "print(loss)"
   ]
  },
  {
   "cell_type": "code",
   "execution_count": null,
   "metadata": {},
   "outputs": [],
   "source": []
  }
 ],
 "metadata": {
  "kernelspec": {
   "display_name": "Python 3",
   "language": "python",
   "name": "python3"
  },
  "language_info": {
   "codemirror_mode": {
    "name": "ipython",
    "version": 3
   },
   "file_extension": ".py",
   "mimetype": "text/x-python",
   "name": "python",
   "nbconvert_exporter": "python",
   "pygments_lexer": "ipython3",
   "version": "3.7.6"
  }
 },
 "nbformat": 4,
 "nbformat_minor": 4
}
