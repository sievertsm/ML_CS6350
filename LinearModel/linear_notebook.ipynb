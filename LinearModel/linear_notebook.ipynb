{
 "cells": [
  {
   "cell_type": "code",
   "execution_count": 5,
   "metadata": {},
   "outputs": [],
   "source": [
    "import pandas as pd\n",
    "import numpy as np\n",
    "import matplotlib.pyplot as plt"
   ]
  },
  {
   "cell_type": "markdown",
   "metadata": {},
   "source": [
    "$$J(w) = \\frac{1}{2} \\sum_{i=1}^m (y_i - w^T xi)^2$$"
   ]
  },
  {
   "cell_type": "code",
   "execution_count": 6,
   "metadata": {},
   "outputs": [],
   "source": [
    "# np.random.seed(101)\n",
    "\n",
    "# N=10\n",
    "# M=3\n",
    "\n",
    "# x = np.random.uniform(size=(N, M))\n",
    "# y = np.random.uniform(size=(N))\n",
    "\n",
    "# w = np.random.uniform(size=(M+1))"
   ]
  },
  {
   "cell_type": "code",
   "execution_count": 39,
   "metadata": {},
   "outputs": [],
   "source": [
    "def get_prediction(x, w):\n",
    "    '''\n",
    "    Input:\n",
    "    x -- (N, M)\n",
    "    w -- (M+1,)\n",
    "    \n",
    "    Output:\n",
    "    pred -- (N,)\n",
    "    '''\n",
    "#     w0 = w[0]\n",
    "#     wm = w[1:]\n",
    "#     pred = w0 + x.dot(wm)\n",
    "\n",
    "    pred = x.dot(w)\n",
    "    \n",
    "    return pred"
   ]
  },
  {
   "cell_type": "code",
   "execution_count": 40,
   "metadata": {},
   "outputs": [],
   "source": [
    "def mean_square_loss(y, pred):\n",
    "    \n",
    "    J = (y - pred)**2\n",
    "    J = 0.5 * J.sum()\n",
    "    \n",
    "    return J"
   ]
  },
  {
   "cell_type": "code",
   "execution_count": 41,
   "metadata": {},
   "outputs": [],
   "source": [
    "def compute_gradient(x, y, pred):\n",
    "    grad = y - pred\n",
    "    grad = grad.dot(x)\n",
    "    \n",
    "    return -grad"
   ]
  },
  {
   "cell_type": "code",
   "execution_count": 42,
   "metadata": {},
   "outputs": [],
   "source": [
    "def next_weight(w, grad, r):\n",
    "    w = w - r * grad\n",
    "    return w\n",
    "    \n",
    "    \n",
    "#     w0 = w[0]\n",
    "#     wm = w[1:]\n",
    "\n",
    "#     w0 = w0 - r * grad.sum()\n",
    "#     wm = wm - r * grad\n",
    "    \n",
    "#     return np.concatenate([np.array([w0]), wm])"
   ]
  },
  {
   "cell_type": "code",
   "execution_count": null,
   "metadata": {},
   "outputs": [],
   "source": []
  },
  {
   "cell_type": "code",
   "execution_count": 83,
   "metadata": {},
   "outputs": [],
   "source": [
    "x1 = np.array([31.5, 36.2, 43.1, 27.6])\n",
    "x2 = np.array([6, 2, 0, 2])\n",
    "\n",
    "x0 = np.ones_like(x1) # add bias\n",
    "\n",
    "x = np.concatenate([x0.reshape(-1, 1), x1.reshape(-1, 1), x2.reshape(-1, 1)], axis=1)\n",
    "y = np.array([21, 25, 18, 30])"
   ]
  },
  {
   "cell_type": "code",
   "execution_count": 84,
   "metadata": {},
   "outputs": [],
   "source": [
    "N, M = x.shape\n",
    "\n",
    "np.random.seed(101)\n",
    "w = np.random.normal(size=(M))"
   ]
  },
  {
   "cell_type": "code",
   "execution_count": null,
   "metadata": {},
   "outputs": [],
   "source": []
  },
  {
   "cell_type": "code",
   "execution_count": null,
   "metadata": {},
   "outputs": [],
   "source": []
  },
  {
   "cell_type": "code",
   "execution_count": 89,
   "metadata": {},
   "outputs": [
    {
     "data": {
      "text/plain": [
       "(4,)"
      ]
     },
     "execution_count": 89,
     "metadata": {},
     "output_type": "execute_result"
    }
   ],
   "source": [
    "pred = get_prediction(x, w)\n",
    "pred.shape"
   ]
  },
  {
   "cell_type": "code",
   "execution_count": 90,
   "metadata": {},
   "outputs": [
    {
     "data": {
      "text/plain": [
       "632.1173693111418"
      ]
     },
     "execution_count": 90,
     "metadata": {},
     "output_type": "execute_result"
    }
   ],
   "source": [
    "loss = mean_square_loss(y, pred)\n",
    "loss"
   ]
  },
  {
   "cell_type": "code",
   "execution_count": 91,
   "metadata": {},
   "outputs": [
    {
     "data": {
      "text/plain": [
       "array([  -68.2656883 , -2299.75330986,  -156.29289439])"
      ]
     },
     "execution_count": 91,
     "metadata": {},
     "output_type": "execute_result"
    }
   ],
   "source": [
    "grad = compute_gradient(x, y, pred)\n",
    "grad"
   ]
  },
  {
   "cell_type": "code",
   "execution_count": 92,
   "metadata": {},
   "outputs": [
    {
     "data": {
      "text/plain": [
       "array([2.76227487, 2.34438799, 1.03437637])"
      ]
     },
     "execution_count": 92,
     "metadata": {},
     "output_type": "execute_result"
    }
   ],
   "source": [
    "r=0.001\n",
    "w = next_weight(w, grad, r)\n",
    "w"
   ]
  },
  {
   "cell_type": "code",
   "execution_count": null,
   "metadata": {},
   "outputs": [],
   "source": []
  }
 ],
 "metadata": {
  "kernelspec": {
   "display_name": "Python 3",
   "language": "python",
   "name": "python3"
  },
  "language_info": {
   "codemirror_mode": {
    "name": "ipython",
    "version": 3
   },
   "file_extension": ".py",
   "mimetype": "text/x-python",
   "name": "python",
   "nbconvert_exporter": "python",
   "pygments_lexer": "ipython3",
   "version": "3.7.6"
  }
 },
 "nbformat": 4,
 "nbformat_minor": 4
}
