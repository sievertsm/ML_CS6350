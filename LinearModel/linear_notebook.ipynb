{
 "cells": [
  {
   "cell_type": "code",
   "execution_count": 5,
   "metadata": {},
   "outputs": [],
   "source": [
    "import pandas as pd\n",
    "import numpy as np\n",
    "import matplotlib.pyplot as plt"
   ]
  },
  {
   "cell_type": "markdown",
   "metadata": {},
   "source": [
    "$$J(w) = \\frac{1}{2} \\sum_{i=1}^m (y_i - w^T xi)^2$$"
   ]
  },
  {
   "cell_type": "code",
   "execution_count": 39,
   "metadata": {},
   "outputs": [],
   "source": [
    "def get_prediction(x, w):\n",
    "    '''\n",
    "    Input:\n",
    "    x -- (N, M)\n",
    "    w -- (M+1,)\n",
    "    \n",
    "    Output:\n",
    "    pred -- (N,)\n",
    "    '''\n",
    "#     w0 = w[0]\n",
    "#     wm = w[1:]\n",
    "#     pred = w0 + x.dot(wm)\n",
    "\n",
    "    pred = x.dot(w)\n",
    "    \n",
    "    return pred"
   ]
  },
  {
   "cell_type": "code",
   "execution_count": 40,
   "metadata": {},
   "outputs": [],
   "source": [
    "def mean_square_loss(y, pred):\n",
    "    \n",
    "    J = (y - pred)**2\n",
    "    J = 0.5 * J.sum()\n",
    "    \n",
    "    return J"
   ]
  },
  {
   "cell_type": "code",
   "execution_count": 41,
   "metadata": {},
   "outputs": [],
   "source": [
    "def compute_gradient(x, y, pred):\n",
    "    grad = y - pred\n",
    "    grad = grad.dot(x)\n",
    "    \n",
    "    return -grad"
   ]
  },
  {
   "cell_type": "code",
   "execution_count": 42,
   "metadata": {},
   "outputs": [],
   "source": [
    "def next_weight(w, grad, r):\n",
    "    \n",
    "    w = w - r * grad\n",
    "    \n",
    "    return w"
   ]
  },
  {
   "cell_type": "code",
   "execution_count": null,
   "metadata": {},
   "outputs": [],
   "source": []
  },
  {
   "cell_type": "code",
   "execution_count": 364,
   "metadata": {},
   "outputs": [],
   "source": [
    "class LinearRegression(object):\n",
    "    \n",
    "    def __init__(self, method='all', tol=1e-10, max_iter=1000):\n",
    "        \n",
    "        self.method = method\n",
    "        self.tol = tol\n",
    "        self.max_iter = max_iter\n",
    "        \n",
    "    def fit(self, X, y, r=0.01, w_init=False, seed=101):\n",
    "        \n",
    "        # add bias term to X\n",
    "        b = np.ones(len(X)).reshape(-1, 1)\n",
    "        X = np.concatenate([b, X], axis=1)\n",
    "        \n",
    "        # initialize weight\n",
    "        N, M = X.shape\n",
    "        if w_init:\n",
    "            np.random.seed(seed)\n",
    "            self.W = np.random.normal(size=(M))\n",
    "        else:\n",
    "            self.W = np.zeros(shape=(M))\n",
    "            \n",
    "        # perform gradient descent\n",
    "        self.loss=[]\n",
    "        for i in range(self.max_iter):\n",
    "            \n",
    "            pred = get_prediction(X, self.W)\n",
    "            loss = mean_square_loss(y, pred)\n",
    "            self.loss.append(loss)\n",
    "            \n",
    "            if loss < self.tol:\n",
    "                break\n",
    "                \n",
    "            grad = compute_gradient(X, y, pred)\n",
    "            self.W = next_weight(self.W, grad, r)\n",
    "            \n",
    "    def predict(X):\n",
    "        \n",
    "        # add bias term to X\n",
    "        b = np.ones(len(X)).reshape(-1, 1)\n",
    "        X = np.concatenate([b, X], axis=1)\n",
    "        \n",
    "        # get prediction\n",
    "        y_pred = get_prediction(X, self.W)\n",
    "        \n",
    "        return y_pred"
   ]
  },
  {
   "cell_type": "code",
   "execution_count": 365,
   "metadata": {},
   "outputs": [],
   "source": [
    "x = np.array([[1, 1, -1, 1, 3],\n",
    "            [-1, 1, 1, 2, -1],\n",
    "            [2, 3, 0, -4, -1]])\n",
    "x = x.T\n",
    "\n",
    "b = np.ones_like(x[:,0]).reshape(-1, 1)\n",
    "x = np.concatenate([b, x], axis=1)\n",
    "\n",
    "y = np.array([1, 4, -1, -2, 0])"
   ]
  },
  {
   "cell_type": "code",
   "execution_count": 366,
   "metadata": {},
   "outputs": [],
   "source": [
    "model = LinearRegression()"
   ]
  },
  {
   "cell_type": "code",
   "execution_count": 367,
   "metadata": {},
   "outputs": [],
   "source": [
    "model.fit(x, y, r=0.02)"
   ]
  },
  {
   "cell_type": "code",
   "execution_count": 369,
   "metadata": {},
   "outputs": [
    {
     "data": {
      "text/plain": [
       "[<matplotlib.lines.Line2D at 0x20900611648>]"
      ]
     },
     "execution_count": 369,
     "metadata": {},
     "output_type": "execute_result"
    },
    {
     "data": {
      "image/png": "[encoded data removed]",
      "text/plain": [
       "<Figure size 432x288 with 1 Axes>"
      ]
     },
     "metadata": {
      "needs_background": "light"
     },
     "output_type": "display_data"
    }
   ],
   "source": [
    "plt.plot(model.loss)"
   ]
  },
  {
   "cell_type": "code",
   "execution_count": null,
   "metadata": {},
   "outputs": [],
   "source": []
  },
  {
   "cell_type": "code",
   "execution_count": null,
   "metadata": {},
   "outputs": [],
   "source": []
  },
  {
   "cell_type": "code",
   "execution_count": null,
   "metadata": {},
   "outputs": [],
   "source": []
  },
  {
   "cell_type": "code",
   "execution_count": 355,
   "metadata": {},
   "outputs": [
    {
     "data": {
      "text/plain": [
       "True"
      ]
     },
     "execution_count": 355,
     "metadata": {},
     "output_type": "execute_result"
    }
   ],
   "source": [
    "np.float('inf') > 10000000000000000000"
   ]
  },
  {
   "cell_type": "code",
   "execution_count": null,
   "metadata": {},
   "outputs": [],
   "source": []
  },
  {
   "cell_type": "code",
   "execution_count": null,
   "metadata": {},
   "outputs": [],
   "source": []
  },
  {
   "cell_type": "code",
   "execution_count": null,
   "metadata": {},
   "outputs": [],
   "source": []
  },
  {
   "cell_type": "code",
   "execution_count": 342,
   "metadata": {},
   "outputs": [],
   "source": [
    "x = np.array([[1, 1, -1, 1, 3],\n",
    "            [-1, 1, 1, 2, -1],\n",
    "            [2, 3, 0, -4, -1]])\n",
    "x = x.T\n",
    "\n",
    "b = np.ones_like(x[:,0]).reshape(-1, 1)\n",
    "x = np.concatenate([b, x], axis=1)\n",
    "\n",
    "y = np.array([1, 4, -1, -2, 0])"
   ]
  },
  {
   "cell_type": "code",
   "execution_count": null,
   "metadata": {},
   "outputs": [],
   "source": []
  },
  {
   "cell_type": "code",
   "execution_count": 347,
   "metadata": {},
   "outputs": [],
   "source": [
    "N, M = x.shape\n",
    "\n",
    "np.random.seed(101)\n",
    "w = np.random.normal(size=(M))"
   ]
  },
  {
   "cell_type": "code",
   "execution_count": 351,
   "metadata": {},
   "outputs": [
    {
     "data": {
      "image/png": "[encoded data removed]",
      "text/plain": [
       "<Figure size 432x288 with 1 Axes>"
      ]
     },
     "metadata": {
      "needs_background": "light"
     },
     "output_type": "display_data"
    },
    {
     "data": {
      "image/png": "[encoded data removed]",
      "text/plain": [
       "<Figure size 432x288 with 1 Axes>"
      ]
     },
     "metadata": {
      "needs_background": "light"
     },
     "output_type": "display_data"
    },
    {
     "name": "stdout",
     "output_type": "stream",
     "text": [
      "5.148379828563131e-10\n"
     ]
    }
   ],
   "source": [
    "iters=500\n",
    "r=0.02\n",
    "\n",
    "all_loss=[]\n",
    "predicted=[]\n",
    "\n",
    "for i in range(iters):\n",
    "    pred = get_prediction(x, w)\n",
    "    loss = mean_square_loss(y, pred)\n",
    "    grad = compute_gradient(x, y, pred)\n",
    "    w = next_weight(w, grad, r)\n",
    "    \n",
    "    predicted.append(pred)\n",
    "    all_loss.append(loss)\n",
    "    \n",
    "plt.plot(all_loss)\n",
    "plt.show()\n",
    "plt.scatter(y, pred)\n",
    "plt.show()\n",
    "print(loss)"
   ]
  },
  {
   "cell_type": "code",
   "execution_count": null,
   "metadata": {},
   "outputs": [],
   "source": []
  }
 ],
 "metadata": {
  "kernelspec": {
   "display_name": "Python 3",
   "language": "python",
   "name": "python3"
  },
  "language_info": {
   "codemirror_mode": {
    "name": "ipython",
    "version": 3
   },
   "file_extension": ".py",
   "mimetype": "text/x-python",
   "name": "python",
   "nbconvert_exporter": "python",
   "pygments_lexer": "ipython3",
   "version": "3.7.6"
  }
 },
 "nbformat": 4,
 "nbformat_minor": 4
}
