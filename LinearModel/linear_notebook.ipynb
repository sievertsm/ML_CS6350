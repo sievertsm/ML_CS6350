{
 "cells": [
  {
   "cell_type": "code",
   "execution_count": 1,
   "metadata": {},
   "outputs": [],
   "source": [
    "import pandas as pd\n",
    "import numpy as np\n",
    "import matplotlib.pyplot as plt"
   ]
  },
  {
   "cell_type": "code",
   "execution_count": 2,
   "metadata": {},
   "outputs": [],
   "source": [
    "from linear_regression import LinearRegression, mean_square_loss, optimal_weight_vector"
   ]
  },
  {
   "cell_type": "markdown",
   "metadata": {},
   "source": [
    "## Read In Data"
   ]
  },
  {
   "cell_type": "code",
   "execution_count": 3,
   "metadata": {},
   "outputs": [],
   "source": [
    "# read in data\n",
    "cols=['Cement', 'Slag', 'Fly ash', 'Water', 'SP', 'Coarse Aggr', 'Fine Aggr', 'Slump']\n",
    "df_train = pd.read_csv('../data/concrete/train.csv', names=cols)\n",
    "df_test = pd.read_csv('../data/concrete/test.csv', names=cols)\n",
    "\n",
    "X = df_train.drop('Slump', axis=1).values\n",
    "y = df_train['Slump'].values\n",
    "\n",
    "X_test = df_test.drop('Slump', axis=1).values\n",
    "y_test = df_test['Slump'].values"
   ]
  },
  {
   "cell_type": "code",
   "execution_count": 4,
   "metadata": {},
   "outputs": [],
   "source": [
    "# get optimal weight vector\n",
    "optimal_weight = optimal_weight_vector(X, y)"
   ]
  },
  {
   "cell_type": "markdown",
   "metadata": {},
   "source": [
    "## Train Models\n",
    "### Batch"
   ]
  },
  {
   "cell_type": "code",
   "execution_count": 5,
   "metadata": {},
   "outputs": [
    {
     "name": "stdout",
     "output_type": "stream",
     "text": [
      "BATCH GRADIENT DESCENT\n",
      "Learning Rate: 0.01\n",
      "\n",
      "Weights: [-0.01520362  0.90022499  0.78594341  0.85066508  1.29862298  0.12983393\n",
      "  1.5717928   0.99834709]\n",
      "\n",
      "Training cost: 14.981943701311598\n",
      "Test cost:     23.361305269196603\n",
      "\n"
     ]
    }
   ],
   "source": [
    "# fit data with batch method\n",
    "lr = 1e-2\n",
    "model_batch = LinearRegression(tol=1e-6)\n",
    "model_batch.fit(X, y, r=lr, method='batch')\n",
    "\n",
    "print('BATCH GRADIENT DESCENT')\n",
    "print(f\"Learning Rate: {lr}\\n\")\n",
    "print(f'Weights: {model_batch.W}\\n')\n",
    "print(f\"Training cost: {model_batch.loss[-1]}\")\n",
    "print(f\"Test cost:     {mean_square_loss(y_test, model_batch.predict(X_test))}\\n\")"
   ]
  },
  {
   "cell_type": "markdown",
   "metadata": {},
   "source": [
    "### SGD"
   ]
  },
  {
   "cell_type": "code",
   "execution_count": 6,
   "metadata": {},
   "outputs": [
    {
     "name": "stdout",
     "output_type": "stream",
     "text": [
      "STOCHASTIC GRADIENT DESCENT\n",
      "Learning Rate: 0.002\n",
      "\n",
      "Weights: [-0.06488089 -0.06225284 -0.19013859 -0.27689626  0.56247586 -0.0262604\n",
      "  0.29512954 -0.00181204]\n",
      "\n",
      "Training cost: 15.506384867960028\n",
      "Test cost:     24.111512847302556\n"
     ]
    }
   ],
   "source": [
    "# fit data with sgd method\n",
    "\n",
    "lr = 2e-3\n",
    "model_sgd = LinearRegression(tol=1e-6)\n",
    "# model_sgd.fit(X, y, r=5e-3, method='sgd', max_iter=1e10)\n",
    "model_sgd.fit(X, y, r=lr, method='sgd', max_iter=1e10)\n",
    "\n",
    "print('STOCHASTIC GRADIENT DESCENT')\n",
    "print(f\"Learning Rate: {lr}\\n\")\n",
    "print(f'Weights: {model_sgd.W}\\n')\n",
    "print(f\"Training cost: {model_sgd.loss[-1]}\")\n",
    "print(f\"Test cost:     {mean_square_loss(y_test, model_sgd.predict(X_test))}\")"
   ]
  },
  {
   "cell_type": "markdown",
   "metadata": {},
   "source": [
    "## Visualize Results"
   ]
  },
  {
   "cell_type": "code",
   "execution_count": 7,
   "metadata": {},
   "outputs": [
    {
     "data": {
      "image/png": "[encoded data removed]",
      "text/plain": [
       "<Figure size 468x216 with 2 Axes>"
      ]
     },
     "metadata": {
      "needs_background": "light"
     },
     "output_type": "display_data"
    }
   ],
   "source": [
    "fig, ax = plt.subplots(nrows=1, ncols=2, figsize=(6.5, 3))\n",
    "\n",
    "ax[0].plot(model_batch.loss)\n",
    "ax[1].plot(model_sgd.loss)\n",
    "\n",
    "for i, title in enumerate(['Batch', 'SGD']):\n",
    "    ax[i].set_title(title)\n",
    "    ax[i].set_xlabel('Update')\n",
    "    ax[i].set_ylabel('Loss (MSE)')\n",
    "    ax[i].grid(alpha=0.3)\n",
    "\n",
    "fig.tight_layout()"
   ]
  },
  {
   "cell_type": "code",
   "execution_count": 8,
   "metadata": {},
   "outputs": [
    {
     "name": "stdout",
     "output_type": "stream",
     "text": [
      "Batch converged after: 7095 iterations\n",
      "SGD converged after:   9767 iterations\n"
     ]
    }
   ],
   "source": [
    "# check iterations to convergence\n",
    "print(f\"Batch converged after: {len(model_batch.loss)} iterations\")\n",
    "print(f\"SGD converged after:   {len(model_sgd.loss)} iterations\")"
   ]
  },
  {
   "cell_type": "markdown",
   "metadata": {},
   "source": [
    "## Comparison With Optimal"
   ]
  },
  {
   "cell_type": "code",
   "execution_count": 9,
   "metadata": {},
   "outputs": [
    {
     "name": "stdout",
     "output_type": "stream",
     "text": [
      "Weight vector difference with optimal weight vector\n",
      "Batch: 0.0008862770719391832\n",
      "SGD:   2.5206928930240866\n"
     ]
    }
   ],
   "source": [
    "print('Weight vector difference with optimal weight vector')\n",
    "print(f\"Batch: {np.linalg.norm((optimal_weight - model_batch.W))}\")\n",
    "print(f\"SGD:   {np.linalg.norm((optimal_weight - model_sgd.W))}\")"
   ]
  }
 ],
 "metadata": {
  "kernelspec": {
   "display_name": "Python 3",
   "language": "python",
   "name": "python3"
  },
  "language_info": {
   "codemirror_mode": {
    "name": "ipython",
    "version": 3
   },
   "file_extension": ".py",
   "mimetype": "text/x-python",
   "name": "python",
   "nbconvert_exporter": "python",
   "pygments_lexer": "ipython3",
   "version": "3.7.6"
  }
 },
 "nbformat": 4,
 "nbformat_minor": 4
}
