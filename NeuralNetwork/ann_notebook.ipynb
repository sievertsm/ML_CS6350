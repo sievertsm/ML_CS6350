{
 "cells": [
  {
   "cell_type": "code",
   "execution_count": 1,
   "metadata": {},
   "outputs": [],
   "source": [
    "import numpy as np\n",
    "import pandas as pd\n",
    "import matplotlib.pyplot as plt\n",
    "from random import shuffle"
   ]
  },
  {
   "cell_type": "code",
   "execution_count": 2,
   "metadata": {},
   "outputs": [],
   "source": [
    "from ann import *"
   ]
  },
  {
   "cell_type": "markdown",
   "metadata": {},
   "source": [
    "## Read Data"
   ]
  },
  {
   "cell_type": "code",
   "execution_count": 3,
   "metadata": {},
   "outputs": [],
   "source": [
    "X_train, y_train = read_bank_note(test=False)\n",
    "X_test, y_test = read_bank_note(test=True)"
   ]
  },
  {
   "cell_type": "code",
   "execution_count": 4,
   "metadata": {},
   "outputs": [],
   "source": [
    "N, D = X_train.shape"
   ]
  },
  {
   "cell_type": "code",
   "execution_count": 10,
   "metadata": {},
   "outputs": [
    {
     "data": {
      "image/png": "[encoded data removed]",
      "text/plain": [
       "<Figure size 432x288 with 1 Axes>"
      ]
     },
     "metadata": {
      "needs_background": "light"
     },
     "output_type": "display_data"
    },
    {
     "name": "stdout",
     "output_type": "stream",
     "text": [
      "0.0\n"
     ]
    }
   ],
   "source": [
    "nn = ArtificialNeuralNet(input_dim=D, hidden_dim=[5, 5], output_dim=1, gamma0=1e-2, d=1e-1)\n",
    "nn.fit(X_train, y_train)\n",
    "\n",
    "plt.plot(nn.loss)\n",
    "plt.show()\n",
    "\n",
    "print(get_error(nn.predict(X_train), y_train))"
   ]
  },
  {
   "cell_type": "markdown",
   "metadata": {},
   "source": [
    "## ANN Performance With Gaussian Initialization"
   ]
  },
  {
   "cell_type": "code",
   "execution_count": 6,
   "metadata": {},
   "outputs": [
    {
     "name": "stdout",
     "output_type": "stream",
     "text": [
      "Starting width 5\n",
      "Starting width 10\n",
      "Starting width 25\n",
      "Starting width 50\n",
      "Starting width 100\n"
     ]
    }
   ],
   "source": [
    "loss_all=[]\n",
    "error_train=[]\n",
    "error_test=[]\n",
    "\n",
    "width = [5, 10, 25, 50, 100]\n",
    "\n",
    "for w in width:\n",
    "    \n",
    "    print(f\"Starting width {w}\")\n",
    "    \n",
    "    nn = ArtificialNeuralNet(input_dim=D, hidden_dim=[w, w], output_dim=1, gamma0=1e-2, d=1e-1)\n",
    "    nn.fit(X_train, y_train)\n",
    "    \n",
    "    y_pred = nn.predict(X_train)\n",
    "    err_train = get_error(y_pred, y_train)\n",
    "    \n",
    "    y_pred = nn.predict(X_test)\n",
    "    err_test = get_error(y_pred, y_test)\n",
    "    \n",
    "    loss_all.append(nn.loss)\n",
    "    error_train.append(err_train)\n",
    "    error_test.append(err_test)"
   ]
  },
  {
   "cell_type": "code",
   "execution_count": 7,
   "metadata": {},
   "outputs": [
    {
     "data": {
      "text/html": [
       "<div>\n",
       "<style scoped>\n",
       "    .dataframe tbody tr th:only-of-type {\n",
       "        vertical-align: middle;\n",
       "    }\n",
       "\n",
       "    .dataframe tbody tr th {\n",
       "        vertical-align: top;\n",
       "    }\n",
       "\n",
       "    .dataframe thead th {\n",
       "        text-align: right;\n",
       "    }\n",
       "</style>\n",
       "<table border=\"1\" class=\"dataframe\">\n",
       "  <thead>\n",
       "    <tr style=\"text-align: right;\">\n",
       "      <th></th>\n",
       "      <th>Width</th>\n",
       "      <th>TrainError</th>\n",
       "      <th>TestError</th>\n",
       "    </tr>\n",
       "  </thead>\n",
       "  <tbody>\n",
       "    <tr>\n",
       "      <th>0</th>\n",
       "      <td>5</td>\n",
       "      <td>0.008028</td>\n",
       "      <td>0.0</td>\n",
       "    </tr>\n",
       "    <tr>\n",
       "      <th>1</th>\n",
       "      <td>10</td>\n",
       "      <td>0.000000</td>\n",
       "      <td>0.0</td>\n",
       "    </tr>\n",
       "    <tr>\n",
       "      <th>2</th>\n",
       "      <td>25</td>\n",
       "      <td>0.000000</td>\n",
       "      <td>0.0</td>\n",
       "    </tr>\n",
       "    <tr>\n",
       "      <th>3</th>\n",
       "      <td>50</td>\n",
       "      <td>0.000000</td>\n",
       "      <td>0.0</td>\n",
       "    </tr>\n",
       "    <tr>\n",
       "      <th>4</th>\n",
       "      <td>100</td>\n",
       "      <td>0.000000</td>\n",
       "      <td>0.0</td>\n",
       "    </tr>\n",
       "  </tbody>\n",
       "</table>\n",
       "</div>"
      ],
      "text/plain": [
       "   Width  TrainError  TestError\n",
       "0      5    0.008028        0.0\n",
       "1     10    0.000000        0.0\n",
       "2     25    0.000000        0.0\n",
       "3     50    0.000000        0.0\n",
       "4    100    0.000000        0.0"
      ]
     },
     "execution_count": 7,
     "metadata": {},
     "output_type": "execute_result"
    }
   ],
   "source": [
    "df_results = pd.DataFrame({'Width': width, 'TrainError': error_train, 'TestError': err_test})\n",
    "df_results"
   ]
  },
  {
   "cell_type": "code",
   "execution_count": null,
   "metadata": {},
   "outputs": [],
   "source": [
    "# df_results.to_csv('results_nn.csv', index=False)"
   ]
  },
  {
   "cell_type": "markdown",
   "metadata": {},
   "source": [
    "## ANN Performance With Zeros Initialization"
   ]
  },
  {
   "cell_type": "code",
   "execution_count": 12,
   "metadata": {},
   "outputs": [
    {
     "name": "stdout",
     "output_type": "stream",
     "text": [
      "Starting width 5\n",
      "Starting width 10\n",
      "Starting width 25\n",
      "Starting width 50\n",
      "Starting width 100\n"
     ]
    }
   ],
   "source": [
    "loss_all=[]\n",
    "error_train=[]\n",
    "error_test=[]\n",
    "\n",
    "width = [5, 10, 25, 50, 100]\n",
    "\n",
    "for w in width:\n",
    "    \n",
    "    print(f\"Starting width {w}\")\n",
    "    \n",
    "    nn = ArtificialNeuralNet(input_dim=D, hidden_dim=[w, w], output_dim=1, gamma0=1e-2, d=1e-1, zero_weights=True)\n",
    "    nn.fit(X_train, y_train)\n",
    "    \n",
    "    y_pred = nn.predict(X_train)\n",
    "    err_train = get_error(y_pred, y_train)\n",
    "    \n",
    "    y_pred = nn.predict(X_test)\n",
    "    err_test = get_error(y_pred, y_test)\n",
    "    \n",
    "    loss_all.append(nn.loss)\n",
    "    error_train.append(err_train)\n",
    "    error_test.append(err_test)"
   ]
  },
  {
   "cell_type": "code",
   "execution_count": 13,
   "metadata": {},
   "outputs": [
    {
     "data": {
      "text/html": [
       "<div>\n",
       "<style scoped>\n",
       "    .dataframe tbody tr th:only-of-type {\n",
       "        vertical-align: middle;\n",
       "    }\n",
       "\n",
       "    .dataframe tbody tr th {\n",
       "        vertical-align: top;\n",
       "    }\n",
       "\n",
       "    .dataframe thead th {\n",
       "        text-align: right;\n",
       "    }\n",
       "</style>\n",
       "<table border=\"1\" class=\"dataframe\">\n",
       "  <thead>\n",
       "    <tr style=\"text-align: right;\">\n",
       "      <th></th>\n",
       "      <th>Width</th>\n",
       "      <th>TrainError</th>\n",
       "      <th>TestError</th>\n",
       "    </tr>\n",
       "  </thead>\n",
       "  <tbody>\n",
       "    <tr>\n",
       "      <th>0</th>\n",
       "      <td>5</td>\n",
       "      <td>0.009174</td>\n",
       "      <td>0.022</td>\n",
       "    </tr>\n",
       "    <tr>\n",
       "      <th>1</th>\n",
       "      <td>10</td>\n",
       "      <td>0.016055</td>\n",
       "      <td>0.022</td>\n",
       "    </tr>\n",
       "    <tr>\n",
       "      <th>2</th>\n",
       "      <td>25</td>\n",
       "      <td>0.018349</td>\n",
       "      <td>0.022</td>\n",
       "    </tr>\n",
       "    <tr>\n",
       "      <th>3</th>\n",
       "      <td>50</td>\n",
       "      <td>0.017202</td>\n",
       "      <td>0.022</td>\n",
       "    </tr>\n",
       "    <tr>\n",
       "      <th>4</th>\n",
       "      <td>100</td>\n",
       "      <td>0.024083</td>\n",
       "      <td>0.022</td>\n",
       "    </tr>\n",
       "  </tbody>\n",
       "</table>\n",
       "</div>"
      ],
      "text/plain": [
       "   Width  TrainError  TestError\n",
       "0      5    0.009174      0.022\n",
       "1     10    0.016055      0.022\n",
       "2     25    0.018349      0.022\n",
       "3     50    0.017202      0.022\n",
       "4    100    0.024083      0.022"
      ]
     },
     "execution_count": 13,
     "metadata": {},
     "output_type": "execute_result"
    }
   ],
   "source": [
    "df_results = pd.DataFrame({'Width': width, 'TrainError': error_train, 'TestError': err_test})\n",
    "df_results"
   ]
  },
  {
   "cell_type": "code",
   "execution_count": 14,
   "metadata": {},
   "outputs": [],
   "source": [
    "# df_results.to_csv('results_nn_zeros.csv', index=False)"
   ]
  }
 ],
 "metadata": {
  "kernelspec": {
   "display_name": "Python 3",
   "language": "python",
   "name": "python3"
  },
  "language_info": {
   "codemirror_mode": {
    "name": "ipython",
    "version": 3
   },
   "file_extension": ".py",
   "mimetype": "text/x-python",
   "name": "python",
   "nbconvert_exporter": "python",
   "pygments_lexer": "ipython3",
   "version": "3.7.6"
  }
 },
 "nbformat": 4,
 "nbformat_minor": 4
}
