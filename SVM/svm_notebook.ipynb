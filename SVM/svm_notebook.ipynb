{
 "cells": [
  {
   "cell_type": "code",
   "execution_count": 1,
   "metadata": {},
   "outputs": [],
   "source": [
    "import numpy as np\n",
    "import pandas as pd\n",
    "import matplotlib.pyplot as plt\n",
    "import seaborn as sns\n",
    "from scipy.optimize import minimize"
   ]
  },
  {
   "cell_type": "code",
   "execution_count": 2,
   "metadata": {},
   "outputs": [],
   "source": [
    "from svm import *"
   ]
  },
  {
   "cell_type": "code",
   "execution_count": 3,
   "metadata": {},
   "outputs": [],
   "source": [
    "# read in data\n",
    "X_train, y_train = read_bank_note(test=False)\n",
    "X_test, y_test = read_bank_note(test=True)"
   ]
  },
  {
   "cell_type": "code",
   "execution_count": 4,
   "metadata": {},
   "outputs": [],
   "source": [
    "# plt.plot([get_gamma(t) for t in range(100)])\n",
    "# plt.plot([get_gamma(t, d=0.02) for t in range(100)])\n",
    "# plt.xlabel('t')\n",
    "# plt.ylabel('Gamma')\n",
    "# plt.show()"
   ]
  },
  {
   "cell_type": "markdown",
   "metadata": {},
   "source": [
    "# Problem 2"
   ]
  },
  {
   "cell_type": "code",
   "execution_count": 47,
   "metadata": {},
   "outputs": [],
   "source": [
    "C = [(100/873), (500/873), (700/873)]"
   ]
  },
  {
   "cell_type": "markdown",
   "metadata": {},
   "source": [
    "## Problem 2.2a"
   ]
  },
  {
   "cell_type": "code",
   "execution_count": 59,
   "metadata": {},
   "outputs": [
    {
     "name": "stdout",
     "output_type": "stream",
     "text": [
      "C = 0.115, training error: 0.0069, test error: 0.008\n",
      "C = 0.573, training error: 0.0115, test error: 0.01\n",
      "C = 0.802, training error: 0.0103, test error: 0.008\n"
     ]
    }
   ],
   "source": [
    "params_2a=[]\n",
    "error_train_2a=[]\n",
    "error_test_2a=[]\n",
    "\n",
    "for Ci in C:\n",
    "    # instantiate model\n",
    "    model = SVM(C=Ci, gamma0=0.005, d=0.02)\n",
    "    # fit to training data\n",
    "    model.fit(X_train, y_train)\n",
    "    \n",
    "    # store weights\n",
    "    params_2a.append(model.w.copy())\n",
    "    \n",
    "    # predict on training data\n",
    "    y_pred = model.predict(X_train)\n",
    "    # get training error\n",
    "    error_train = get_error(y_pred, y_train)\n",
    "    error_train_2a.append(error_train)\n",
    "    \n",
    "    # predict on test data\n",
    "    y_pred = model.predict(X_test)\n",
    "    # get test error\n",
    "    error_test = get_error(y_pred, y_test)\n",
    "    error_test_2a.append(error_test)\n",
    "    \n",
    "    # print results\n",
    "    print(f\"C = {round(Ci, 3)}, training error: {round(error_train, 4)}, test error: {round(error_test, 4)}\")\n",
    "    \n",
    "params_2a = np.array(params_2a)\n",
    "error_train_2a = np.array(error_train_2a)\n",
    "error_test_2a = np.array(error_test_2a)"
   ]
  },
  {
   "cell_type": "markdown",
   "metadata": {},
   "source": [
    "## Problem 2.2b"
   ]
  },
  {
   "cell_type": "code",
   "execution_count": 7,
   "metadata": {},
   "outputs": [
    {
     "name": "stdout",
     "output_type": "stream",
     "text": [
      "C = 0.115, training error: 0.0195, test error: 0.014\n",
      "C = 0.573, training error: 0.008, test error: 0.008\n",
      "C = 0.802, training error: 0.0264, test error: 0.03\n"
     ]
    }
   ],
   "source": [
    "params_2b=[]\n",
    "error_train_2b=[]\n",
    "error_test_2b=[]\n",
    "\n",
    "for Ci in C:\n",
    "    # instantiate model\n",
    "    model = SVM(C=Ci, gamma0=1e-3, d=0.1)\n",
    "    # fit to training data\n",
    "    model.fit(X_train, y_train)\n",
    "    \n",
    "    # store weights\n",
    "    params_2b.append(model.w.copy())\n",
    "    \n",
    "    # predict on training data\n",
    "    y_pred = model.predict(X_train)\n",
    "    # get training error\n",
    "    error_train = get_error(y_pred, y_train)\n",
    "    error_train_2b.append(error_train)\n",
    "    \n",
    "    # predict on test data\n",
    "    y_pred = model.predict(X_test)\n",
    "    # get test error\n",
    "    error_test = get_error(y_pred, y_test)\n",
    "    error_test_2b.append(error_test)\n",
    "    \n",
    "    # print results\n",
    "    print(f\"C = {round(Ci, 3)}, training error: {round(error_train, 4)}, test error: {round(error_test, 4)}\")\n",
    "    \n",
    "params_2b = np.array(params_2b)\n",
    "error_train_2b = np.array(error_train_2b)\n",
    "error_test_2b = np.array(error_test_2b)"
   ]
  },
  {
   "cell_type": "markdown",
   "metadata": {},
   "source": [
    "## Problem 2c"
   ]
  },
  {
   "cell_type": "code",
   "execution_count": 60,
   "metadata": {},
   "outputs": [
    {
     "data": {
      "image/png": "[encoded data removed]",
      "text/plain": [
       "<Figure size 1008x216 with 3 Axes>"
      ]
     },
     "metadata": {
      "needs_background": "light"
     },
     "output_type": "display_data"
    }
   ],
   "source": [
    "cmap='coolwarm'\n",
    "vmin = min(params_2a.min(), params_2b.min())\n",
    "vmax = min(params_2a.max(), params_2b.max())\n",
    "x_lab = ['w1', 'w2', 'w3', 'w4', 'b']\n",
    "y_lab = ['C1', 'C2', 'C3']\n",
    "params_ab = params_2a - params_2b\n",
    "\n",
    "fig, ax = plt.subplots(nrows=1, ncols=3, figsize=(14, 3))\n",
    "sns.heatmap(params_2a, ax=ax[0], vmin=vmin, vmax=vmax, cmap=cmap, annot=True, linecolor='white', linewidth=2, cbar=False, xticklabels=x_lab, yticklabels=y_lab)\n",
    "sns.heatmap(params_2b, ax=ax[1], vmin=vmin, vmax=vmax, cmap=cmap, annot=True, linecolor='white', linewidth=2, cbar=False, xticklabels=x_lab, yticklabels=y_lab)\n",
    "sns.heatmap(params_ab, ax=ax[2], vmin=vmin, vmax=vmax, cmap=cmap, annot=True, linecolor='white', linewidth=2, cbar=False, xticklabels=x_lab, yticklabels=y_lab)\n",
    "\n",
    "ax[0].set_title('Parameters 2a')\n",
    "ax[1].set_title('Parameters 2b')\n",
    "ax[2].set_title('Parameters (2a - 2b)')\n",
    "\n",
    "plt.savefig('./figures/p_2c_hm.png', dpi=300)\n",
    "plt.show()"
   ]
  },
  {
   "cell_type": "code",
   "execution_count": 9,
   "metadata": {},
   "outputs": [],
   "source": [
    "# lim = max(abs(vmin), abs(vmax)) * 1.2\n",
    "# plt.figure(figsize=(4.5, 4.5))\n",
    "# plt.scatter(params_2a.reshape(-1), params_2b.reshape(-1), label='Observations')\n",
    "# plt.plot([-lim, lim], [-lim, lim], '--r', label='Reference Line')\n",
    "# plt.grid(alpha=0.3)\n",
    "# plt.xlim(-lim, lim)\n",
    "# plt.ylim(-lim, lim)\n",
    "# plt.xlabel('Params 2a')\n",
    "# plt.ylabel('Params 2b')\n",
    "# plt.legend()\n",
    "# plt.show()"
   ]
  },
  {
   "cell_type": "code",
   "execution_count": 62,
   "metadata": {},
   "outputs": [
    {
     "data": {
      "image/png": "[encoded data removed]",
      "text/plain": [
       "<Figure size 576x216 with 2 Axes>"
      ]
     },
     "metadata": {
      "needs_background": "light"
     },
     "output_type": "display_data"
    }
   ],
   "source": [
    "fig, ax = plt.subplots(nrows=1, ncols=2, sharey=True, figsize=(8, 3))\n",
    "x_val = ['C1', 'C2', 'C3']\n",
    "\n",
    "ax[0].plot(x_val, error_train_2a, '-o', label='2a')\n",
    "ax[0].plot(x_val, error_train_2b, '-o', label='2b')\n",
    "\n",
    "ax[1].plot(x_val, error_test_2a, '-o', label='2a')\n",
    "ax[1].plot(x_val, error_test_2b, '-o', label='2b')\n",
    "\n",
    "ax[0].set_ylabel('Error')\n",
    "\n",
    "for i, title in enumerate(['Training', 'Test']):\n",
    "    ax[i].grid(alpha=0.3)\n",
    "    ax[i].set_title(f\"{title} Error\")\n",
    "    \n",
    "plt.legend(title='Parameters', bbox_to_anchor=(1.05, 1), loc='upper left')\n",
    "plt.savefig('./figures/p_2c_error.png', dpi=300, bbox_inches='tight')\n",
    "plt.show()"
   ]
  },
  {
   "cell_type": "code",
   "execution_count": 81,
   "metadata": {},
   "outputs": [
    {
     "data": {
      "image/png": "[encoded data removed]",
      "text/plain": [
       "<Figure size 432x288 with 1 Axes>"
      ]
     },
     "metadata": {
      "needs_background": "light"
     },
     "output_type": "display_data"
    }
   ],
   "source": [
    "df_plt_trn = pd.DataFrame({'x': x_val, 'Error': error_train_2a})\n",
    "df_plt_tst = pd.DataFrame({'x': x_val, 'Error': error_test_2a})\n",
    "df_plt_trn['Data'] = 'Training'\n",
    "df_plt_tst['Data'] = 'Test'\n",
    "df_plt = pd.concat([df_plt_trn, df_plt_tst], axis=0)\n",
    "\n",
    "sns.barplot(data=df_plt, x='x', y='Error', hue='Data')\n",
    "plt.xlabel('')\n",
    "# plt.savefig('./figures/p_2a_error.png', dpi=300)\n",
    "plt.show()"
   ]
  },
  {
   "cell_type": "code",
   "execution_count": 82,
   "metadata": {},
   "outputs": [
    {
     "data": {
      "image/png": "[encoded data removed]",
      "text/plain": [
       "<Figure size 432x288 with 1 Axes>"
      ]
     },
     "metadata": {
      "needs_background": "light"
     },
     "output_type": "display_data"
    }
   ],
   "source": [
    "df_plt_trn = pd.DataFrame({'x': x_val, 'Error': error_train_2b})\n",
    "df_plt_tst = pd.DataFrame({'x': x_val, 'Error': error_test_2b})\n",
    "df_plt_trn['Data'] = 'Training'\n",
    "df_plt_tst['Data'] = 'Test'\n",
    "df_plt = pd.concat([df_plt_trn, df_plt_tst], axis=0)\n",
    "\n",
    "sns.barplot(data=df_plt, x='x', y='Error', hue='Data')\n",
    "plt.xlabel('')\n",
    "# plt.savefig('./figures/p_2b_error.png', dpi=300)\n",
    "plt.show()"
   ]
  },
  {
   "cell_type": "code",
   "execution_count": null,
   "metadata": {},
   "outputs": [],
   "source": []
  },
  {
   "cell_type": "code",
   "execution_count": null,
   "metadata": {},
   "outputs": [],
   "source": []
  },
  {
   "cell_type": "code",
   "execution_count": 75,
   "metadata": {},
   "outputs": [
    {
     "data": {
      "text/html": [
       "<div>\n",
       "<style scoped>\n",
       "    .dataframe tbody tr th:only-of-type {\n",
       "        vertical-align: middle;\n",
       "    }\n",
       "\n",
       "    .dataframe tbody tr th {\n",
       "        vertical-align: top;\n",
       "    }\n",
       "\n",
       "    .dataframe thead th {\n",
       "        text-align: right;\n",
       "    }\n",
       "</style>\n",
       "<table border=\"1\" class=\"dataframe\">\n",
       "  <thead>\n",
       "    <tr style=\"text-align: right;\">\n",
       "      <th></th>\n",
       "      <th>variable</th>\n",
       "      <th>value</th>\n",
       "    </tr>\n",
       "  </thead>\n",
       "  <tbody>\n",
       "    <tr>\n",
       "      <th>0</th>\n",
       "      <td>x</td>\n",
       "      <td>C1</td>\n",
       "    </tr>\n",
       "    <tr>\n",
       "      <th>1</th>\n",
       "      <td>x</td>\n",
       "      <td>C2</td>\n",
       "    </tr>\n",
       "    <tr>\n",
       "      <th>2</th>\n",
       "      <td>x</td>\n",
       "      <td>C3</td>\n",
       "    </tr>\n",
       "    <tr>\n",
       "      <th>3</th>\n",
       "      <td>Train</td>\n",
       "      <td>0.00688073</td>\n",
       "    </tr>\n",
       "    <tr>\n",
       "      <th>4</th>\n",
       "      <td>Train</td>\n",
       "      <td>0.0114679</td>\n",
       "    </tr>\n",
       "    <tr>\n",
       "      <th>5</th>\n",
       "      <td>Train</td>\n",
       "      <td>0.0103211</td>\n",
       "    </tr>\n",
       "    <tr>\n",
       "      <th>6</th>\n",
       "      <td>Test</td>\n",
       "      <td>0.008</td>\n",
       "    </tr>\n",
       "    <tr>\n",
       "      <th>7</th>\n",
       "      <td>Test</td>\n",
       "      <td>0.01</td>\n",
       "    </tr>\n",
       "    <tr>\n",
       "      <th>8</th>\n",
       "      <td>Test</td>\n",
       "      <td>0.008</td>\n",
       "    </tr>\n",
       "  </tbody>\n",
       "</table>\n",
       "</div>"
      ],
      "text/plain": [
       "  variable       value\n",
       "0        x          C1\n",
       "1        x          C2\n",
       "2        x          C3\n",
       "3    Train  0.00688073\n",
       "4    Train   0.0114679\n",
       "5    Train   0.0103211\n",
       "6     Test       0.008\n",
       "7     Test        0.01\n",
       "8     Test       0.008"
      ]
     },
     "execution_count": 75,
     "metadata": {},
     "output_type": "execute_result"
    }
   ],
   "source": [
    "df_plt_trn = pd.DataFrame({'x': x_val, 'Train': error_train_2a, 'Test': error_test_2a})\n",
    "# sns.barplot(data=df_plt)"
   ]
  },
  {
   "cell_type": "markdown",
   "metadata": {},
   "source": [
    "# Problem 3"
   ]
  },
  {
   "cell_type": "markdown",
   "metadata": {},
   "source": [
    "## Problem 3a"
   ]
  },
  {
   "cell_type": "code",
   "execution_count": 11,
   "metadata": {},
   "outputs": [
    {
     "name": "stdout",
     "output_type": "stream",
     "text": [
      "Optimization Converged: True\n",
      "Optimization terminated successfully.\n",
      "C = 0.115, training error: 0.0115, test error: 0.012\n",
      "Optimization Converged: True\n",
      "Optimization terminated successfully.\n",
      "C = 0.573, training error: 0.008, test error: 0.008\n",
      "Optimization Converged: True\n",
      "Optimization terminated successfully.\n",
      "C = 0.802, training error: 0.0092, test error: 0.01\n"
     ]
    }
   ],
   "source": [
    "params_3a=[]\n",
    "error_train_3a=[]\n",
    "error_test_3a=[]\n",
    "\n",
    "for Ci in C:\n",
    "    # instantiate model\n",
    "    model = SVM_Dual(C=Ci)\n",
    "    # fit to training data\n",
    "    model.fit(X_train, y_train)\n",
    "    \n",
    "    # store weights\n",
    "    params_3a.append(model.w.copy())\n",
    "    \n",
    "    # predict on training data\n",
    "    y_pred = model.predict(X_train)\n",
    "    # get training error\n",
    "    error_train = get_error(y_pred, y_train)\n",
    "    error_train_3a.append(error_train)\n",
    "    \n",
    "    # predict on test data\n",
    "    y_pred = model.predict(X_test)\n",
    "    # get test error\n",
    "    error_test = get_error(y_pred, y_test)\n",
    "    error_test_3a.append(error_test)\n",
    "    \n",
    "    # print results\n",
    "    print(f\"C = {round(Ci, 3)}, training error: {round(error_train, 4)}, test error: {round(error_test, 4)}\")\n",
    "    \n",
    "params_3a = np.array(params_3a)\n",
    "error_train_3a = np.array(error_train_3a)\n",
    "error_test_3a = np.array(error_test_3a)"
   ]
  },
  {
   "cell_type": "code",
   "execution_count": 63,
   "metadata": {},
   "outputs": [
    {
     "data": {
      "image/png": "[encoded data removed]",
      "text/plain": [
       "<Figure size 1008x216 with 3 Axes>"
      ]
     },
     "metadata": {
      "needs_background": "light"
     },
     "output_type": "display_data"
    },
    {
     "data": {
      "image/png": "[encoded data removed]",
      "text/plain": [
       "<Figure size 1008x216 with 3 Axes>"
      ]
     },
     "metadata": {
      "needs_background": "light"
     },
     "output_type": "display_data"
    }
   ],
   "source": [
    "cmap='coolwarm'\n",
    "vmin = min(params_2a.min(), params_2b.min(), params_3a.min())\n",
    "vmax = min(params_2a.max(), params_2b.max(), params_3a.max())\n",
    "x_lab = ['w1', 'w2', 'w3', 'w4', 'b']\n",
    "y_lab = ['C1', 'C2', 'C3']\n",
    "# params_ab = params_2a - params_2b\n",
    "\n",
    "fig, ax = plt.subplots(nrows=1, ncols=3, figsize=(14, 3))\n",
    "sns.heatmap(params_2a, ax=ax[0], vmin=vmin, vmax=vmax, cmap=cmap, annot=True, linecolor='white', linewidth=2, cbar=False, xticklabels=x_lab, yticklabels=y_lab)\n",
    "sns.heatmap(params_2b, ax=ax[1], vmin=vmin, vmax=vmax, cmap=cmap, annot=True, linecolor='white', linewidth=2, cbar=False, xticklabels=x_lab, yticklabels=y_lab)\n",
    "sns.heatmap(params_3a, ax=ax[2], vmin=vmin, vmax=vmax, cmap=cmap, annot=True, linecolor='white', linewidth=2, cbar=False, xticklabels=x_lab, yticklabels=y_lab)\n",
    "\n",
    "ax[0].set_title('Parameters 2a')\n",
    "ax[1].set_title('Parameters 2b')\n",
    "ax[2].set_title('Parameters 3a')\n",
    "plt.savefig('./figures/p_3a_hm1.png', dpi=300)\n",
    "plt.show()\n",
    "\n",
    "fig, ax = plt.subplots(nrows=1, ncols=3, figsize=(14, 3))\n",
    "sns.heatmap(params_2a, ax=ax[0], cmap=cmap, annot=True, linecolor='white', linewidth=2, cbar=False, xticklabels=x_lab, yticklabels=y_lab)\n",
    "sns.heatmap(params_2b, ax=ax[1], cmap=cmap, annot=True, linecolor='white', linewidth=2, cbar=False, xticklabels=x_lab, yticklabels=y_lab)\n",
    "sns.heatmap(params_3a, ax=ax[2], cmap=cmap, annot=True, linecolor='white', linewidth=2, cbar=False, xticklabels=x_lab, yticklabels=y_lab)\n",
    "\n",
    "ax[0].set_title('Parameters 2a')\n",
    "ax[1].set_title('Parameters 2b')\n",
    "ax[2].set_title('Parameters 3a')\n",
    "\n",
    "plt.savefig('./figures/p_3a_hm2.png', dpi=300)\n",
    "plt.show()"
   ]
  },
  {
   "cell_type": "code",
   "execution_count": 13,
   "metadata": {},
   "outputs": [],
   "source": [
    "# # store parameters\n",
    "# pd.DataFrame(params_2a).to_csv('3params_2a.csv', index=False)\n",
    "# pd.DataFrame(params_2b).to_csv('3params_2b.csv', index=False)\n",
    "# pd.DataFrame(params_3a).to_csv('3params_3a.csv', index=False)"
   ]
  },
  {
   "cell_type": "code",
   "execution_count": 14,
   "metadata": {},
   "outputs": [
    {
     "name": "stdout",
     "output_type": "stream",
     "text": [
      "Optimization Converged: True\n",
      "Optimization terminated successfully.\n",
      "Gamma: 0.1, C: 0.1145475372279496, Train Error: 0.4461009174311927, Test Error: 0.442, Support: 869\n",
      "Optimization Converged: True\n",
      "Optimization terminated successfully.\n",
      "Gamma: 0.1, C: 0.572737686139748, Train Error: 0.0, Test Error: 0.212, Support: 869\n",
      "Optimization Converged: True\n",
      "Optimization terminated successfully.\n",
      "Gamma: 0.1, C: 0.8018327605956472, Train Error: 0.0, Test Error: 0.182, Support: 868\n",
      "Optimization Converged: True\n",
      "Optimization terminated successfully.\n",
      "Gamma: 0.5, C: 0.1145475372279496, Train Error: 0.1536697247706422, Test Error: 0.268, Support: 825\n",
      "Optimization Converged: True\n",
      "Optimization terminated successfully.\n",
      "Gamma: 0.5, C: 0.572737686139748, Train Error: 0.0, Test Error: 0.014, Support: 731\n",
      "Optimization Converged: True\n",
      "Optimization terminated successfully.\n",
      "Gamma: 0.5, C: 0.8018327605956472, Train Error: 0.0, Test Error: 0.01, Support: 694\n",
      "Optimization Converged: True\n",
      "Optimization terminated successfully.\n",
      "Gamma: 1, C: 0.1145475372279496, Train Error: 0.0, Test Error: 0.022, Support: 805\n",
      "Optimization Converged: True\n",
      "Optimization terminated successfully.\n",
      "Gamma: 1, C: 0.572737686139748, Train Error: 0.0, Test Error: 0.004, Support: 556\n",
      "Optimization Converged: True\n",
      "Optimization terminated successfully.\n",
      "Gamma: 1, C: 0.8018327605956472, Train Error: 0.0, Test Error: 0.004, Support: 528\n",
      "Optimization Converged: True\n",
      "Optimization terminated successfully.\n",
      "Gamma: 5, C: 0.1145475372279496, Train Error: 0.0034403669724770644, Test Error: 0.004, Support: 442\n",
      "Optimization Converged: True\n",
      "Optimization terminated successfully.\n",
      "Gamma: 5, C: 0.572737686139748, Train Error: 0.0, Test Error: 0.0, Support: 208\n",
      "Optimization Converged: True\n",
      "Optimization terminated successfully.\n",
      "Gamma: 5, C: 0.8018327605956472, Train Error: 0.0, Test Error: 0.0, Support: 194\n",
      "Optimization Converged: True\n",
      "Optimization terminated successfully.\n",
      "Gamma: 100, C: 0.1145475372279496, Train Error: 0.016055045871559634, Test Error: 0.014, Support: 290\n",
      "Optimization Converged: True\n",
      "Optimization terminated successfully.\n",
      "Gamma: 100, C: 0.572737686139748, Train Error: 0.0034403669724770644, Test Error: 0.004, Support: 116\n",
      "Optimization Converged: True\n",
      "Optimization terminated successfully.\n",
      "Gamma: 100, C: 0.8018327605956472, Train Error: 0.0034403669724770644, Test Error: 0.004, Support: 99\n"
     ]
    }
   ],
   "source": [
    "gamma_values = [0.1, 0.5, 1, 5, 100]\n",
    "C_values = [(100/873), (500/873), (700/873)]\n",
    "\n",
    "r_model=[]\n",
    "r_error_train=[]\n",
    "r_error_test=[]\n",
    "r_gamma=[]\n",
    "r_C=[]\n",
    "r_num_support_vectors=[]\n",
    "\n",
    "for g in gamma_values:\n",
    "    for C in C_values:\n",
    "        \n",
    "        model = SVM_Dual(C=C, kernel='gaussian')\n",
    "        model.fit(X_train, y_train, gamma=g)\n",
    "        \n",
    "        y_pred = model.predict(X_train)\n",
    "        train_error = get_error(y_pred, y_train)\n",
    "        \n",
    "        y_pred = model.predict(X_test)\n",
    "        test_error = get_error(y_pred, y_test)\n",
    "        \n",
    "        n_support = np.sum(model.alpha > 0)\n",
    "        \n",
    "        r_model.append(model)\n",
    "        r_error_train.append(train_error)\n",
    "        r_error_test.append(test_error)\n",
    "        r_gamma.append(g)\n",
    "        r_C.append(C)\n",
    "        r_num_support_vectors.append(n_support)\n",
    "        \n",
    "        print(f\"Gamma: {g}, C: {C}, Train Error: {train_error}, Test Error: {test_error}, Support: {n_support}\")"
   ]
  },
  {
   "cell_type": "code",
   "execution_count": 20,
   "metadata": {},
   "outputs": [],
   "source": [
    "df_results = pd.DataFrame({'Gamma': r_gamma,\n",
    "                          'C': r_C,\n",
    "                          'TrainError': r_error_train,\n",
    "                          'TestError': r_error_test,\n",
    "                          'NumSV': r_num_support_vectors})\n",
    "print(df_results)\n",
    "# df_results.to_csv('p3b.csv', index=False)"
   ]
  },
  {
   "cell_type": "code",
   "execution_count": 41,
   "metadata": {},
   "outputs": [
    {
     "data": {
      "text/html": [
       "<div>\n",
       "<style scoped>\n",
       "    .dataframe tbody tr th:only-of-type {\n",
       "        vertical-align: middle;\n",
       "    }\n",
       "\n",
       "    .dataframe tbody tr th {\n",
       "        vertical-align: top;\n",
       "    }\n",
       "\n",
       "    .dataframe thead th {\n",
       "        text-align: right;\n",
       "    }\n",
       "</style>\n",
       "<table border=\"1\" class=\"dataframe\">\n",
       "  <thead>\n",
       "    <tr style=\"text-align: right;\">\n",
       "      <th></th>\n",
       "      <th>Gamma</th>\n",
       "      <th>C</th>\n",
       "      <th>TrainError</th>\n",
       "      <th>TestError</th>\n",
       "      <th>NumSV</th>\n",
       "    </tr>\n",
       "  </thead>\n",
       "  <tbody>\n",
       "    <tr>\n",
       "      <th>0</th>\n",
       "      <td>0.1</td>\n",
       "      <td>0.114548</td>\n",
       "      <td>0.446101</td>\n",
       "      <td>0.442</td>\n",
       "      <td>869</td>\n",
       "    </tr>\n",
       "    <tr>\n",
       "      <th>1</th>\n",
       "      <td>0.1</td>\n",
       "      <td>0.572738</td>\n",
       "      <td>0.000000</td>\n",
       "      <td>0.212</td>\n",
       "      <td>869</td>\n",
       "    </tr>\n",
       "    <tr>\n",
       "      <th>2</th>\n",
       "      <td>0.1</td>\n",
       "      <td>0.801833</td>\n",
       "      <td>0.000000</td>\n",
       "      <td>0.182</td>\n",
       "      <td>868</td>\n",
       "    </tr>\n",
       "    <tr>\n",
       "      <th>3</th>\n",
       "      <td>0.5</td>\n",
       "      <td>0.114548</td>\n",
       "      <td>0.153670</td>\n",
       "      <td>0.268</td>\n",
       "      <td>825</td>\n",
       "    </tr>\n",
       "    <tr>\n",
       "      <th>4</th>\n",
       "      <td>0.5</td>\n",
       "      <td>0.572738</td>\n",
       "      <td>0.000000</td>\n",
       "      <td>0.014</td>\n",
       "      <td>731</td>\n",
       "    </tr>\n",
       "    <tr>\n",
       "      <th>5</th>\n",
       "      <td>0.5</td>\n",
       "      <td>0.801833</td>\n",
       "      <td>0.000000</td>\n",
       "      <td>0.010</td>\n",
       "      <td>694</td>\n",
       "    </tr>\n",
       "    <tr>\n",
       "      <th>6</th>\n",
       "      <td>1.0</td>\n",
       "      <td>0.114548</td>\n",
       "      <td>0.000000</td>\n",
       "      <td>0.022</td>\n",
       "      <td>805</td>\n",
       "    </tr>\n",
       "    <tr>\n",
       "      <th>7</th>\n",
       "      <td>1.0</td>\n",
       "      <td>0.572738</td>\n",
       "      <td>0.000000</td>\n",
       "      <td>0.004</td>\n",
       "      <td>556</td>\n",
       "    </tr>\n",
       "    <tr>\n",
       "      <th>8</th>\n",
       "      <td>1.0</td>\n",
       "      <td>0.801833</td>\n",
       "      <td>0.000000</td>\n",
       "      <td>0.004</td>\n",
       "      <td>528</td>\n",
       "    </tr>\n",
       "    <tr>\n",
       "      <th>9</th>\n",
       "      <td>5.0</td>\n",
       "      <td>0.114548</td>\n",
       "      <td>0.003440</td>\n",
       "      <td>0.004</td>\n",
       "      <td>442</td>\n",
       "    </tr>\n",
       "    <tr>\n",
       "      <th>10</th>\n",
       "      <td>5.0</td>\n",
       "      <td>0.572738</td>\n",
       "      <td>0.000000</td>\n",
       "      <td>0.000</td>\n",
       "      <td>208</td>\n",
       "    </tr>\n",
       "    <tr>\n",
       "      <th>11</th>\n",
       "      <td>5.0</td>\n",
       "      <td>0.801833</td>\n",
       "      <td>0.000000</td>\n",
       "      <td>0.000</td>\n",
       "      <td>194</td>\n",
       "    </tr>\n",
       "    <tr>\n",
       "      <th>12</th>\n",
       "      <td>100.0</td>\n",
       "      <td>0.114548</td>\n",
       "      <td>0.016055</td>\n",
       "      <td>0.014</td>\n",
       "      <td>290</td>\n",
       "    </tr>\n",
       "    <tr>\n",
       "      <th>13</th>\n",
       "      <td>100.0</td>\n",
       "      <td>0.572738</td>\n",
       "      <td>0.003440</td>\n",
       "      <td>0.004</td>\n",
       "      <td>116</td>\n",
       "    </tr>\n",
       "    <tr>\n",
       "      <th>14</th>\n",
       "      <td>100.0</td>\n",
       "      <td>0.801833</td>\n",
       "      <td>0.003440</td>\n",
       "      <td>0.004</td>\n",
       "      <td>99</td>\n",
       "    </tr>\n",
       "  </tbody>\n",
       "</table>\n",
       "</div>"
      ],
      "text/plain": [
       "    Gamma         C  TrainError  TestError  NumSV\n",
       "0     0.1  0.114548    0.446101      0.442    869\n",
       "1     0.1  0.572738    0.000000      0.212    869\n",
       "2     0.1  0.801833    0.000000      0.182    868\n",
       "3     0.5  0.114548    0.153670      0.268    825\n",
       "4     0.5  0.572738    0.000000      0.014    731\n",
       "5     0.5  0.801833    0.000000      0.010    694\n",
       "6     1.0  0.114548    0.000000      0.022    805\n",
       "7     1.0  0.572738    0.000000      0.004    556\n",
       "8     1.0  0.801833    0.000000      0.004    528\n",
       "9     5.0  0.114548    0.003440      0.004    442\n",
       "10    5.0  0.572738    0.000000      0.000    208\n",
       "11    5.0  0.801833    0.000000      0.000    194\n",
       "12  100.0  0.114548    0.016055      0.014    290\n",
       "13  100.0  0.572738    0.003440      0.004    116\n",
       "14  100.0  0.801833    0.003440      0.004     99"
      ]
     },
     "execution_count": 41,
     "metadata": {},
     "output_type": "execute_result"
    }
   ],
   "source": [
    "df_results"
   ]
  },
  {
   "cell_type": "code",
   "execution_count": 45,
   "metadata": {},
   "outputs": [
    {
     "name": "stdout",
     "output_type": "stream",
     "text": [
      "Gamma overlap 0.1 to 0.5: 731\n",
      "Gamma overlap 0.5 to 1: 554\n",
      "Gamma overlap 1 to 5: 198\n",
      "Gamma overlap 5 to 100: 73\n"
     ]
    }
   ],
   "source": [
    "c5_1 = r_model[1].alpha > 0\n",
    "c5_2 = r_model[4].alpha > 0\n",
    "c5_3 = r_model[7].alpha > 0\n",
    "c5_4 = r_model[10].alpha > 0\n",
    "c5_5 = r_model[13].alpha > 0\n",
    "\n",
    "print(f\"Gamma overlap 0.1 to 0.5: {np.sum(c5_1 & c5_2)}\")\n",
    "print(f\"Gamma overlap 0.5 to 1: {np.sum(c5_2 & c5_3)}\")\n",
    "print(f\"Gamma overlap 1 to 5: {np.sum(c5_3 & c5_4)}\")\n",
    "print(f\"Gamma overlap 5 to 100: {np.sum(c5_4 & c5_5)}\")"
   ]
  },
  {
   "cell_type": "code",
   "execution_count": null,
   "metadata": {},
   "outputs": [],
   "source": []
  },
  {
   "cell_type": "code",
   "execution_count": null,
   "metadata": {},
   "outputs": [],
   "source": []
  }
 ],
 "metadata": {
  "kernelspec": {
   "display_name": "Python 3",
   "language": "python",
   "name": "python3"
  },
  "language_info": {
   "codemirror_mode": {
    "name": "ipython",
    "version": 3
   },
   "file_extension": ".py",
   "mimetype": "text/x-python",
   "name": "python",
   "nbconvert_exporter": "python",
   "pygments_lexer": "ipython3",
   "version": "3.7.6"
  }
 },
 "nbformat": 4,
 "nbformat_minor": 4
}
