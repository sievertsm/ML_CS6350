{
 "cells": [
  {
   "cell_type": "code",
   "execution_count": 1,
   "metadata": {},
   "outputs": [],
   "source": [
    "import numpy as np\n",
    "import pandas as pd\n",
    "import matplotlib.pyplot as plt"
   ]
  },
  {
   "cell_type": "code",
   "execution_count": 2,
   "metadata": {},
   "outputs": [],
   "source": [
    "from svm import *"
   ]
  },
  {
   "cell_type": "code",
   "execution_count": 4,
   "metadata": {},
   "outputs": [],
   "source": [
    "# read in data\n",
    "X_train, y_train = read_bank_note(test=False)\n",
    "X_test, y_test = read_bank_note(test=True)"
   ]
  },
  {
   "cell_type": "code",
   "execution_count": 7,
   "metadata": {},
   "outputs": [
    {
     "data": {
      "image/png": "[encoded data removed]",
      "text/plain": [
       "<Figure size 432x288 with 1 Axes>"
      ]
     },
     "metadata": {
      "needs_background": "light"
     },
     "output_type": "display_data"
    }
   ],
   "source": [
    "plt.plot([get_gamma(t) for t in range(100)])\n",
    "plt.plot([get_gamma(t, d=0.02) for t in range(100)])\n",
    "plt.xlabel('t')\n",
    "plt.ylabel('Gamma')\n",
    "plt.show()"
   ]
  },
  {
   "cell_type": "markdown",
   "metadata": {},
   "source": [
    "# Problem 2"
   ]
  },
  {
   "cell_type": "code",
   "execution_count": 9,
   "metadata": {},
   "outputs": [],
   "source": [
    "C = np.array([(100/873), (500/873), (700/873)])"
   ]
  },
  {
   "cell_type": "markdown",
   "metadata": {},
   "source": [
    "## Problem 2.2a"
   ]
  },
  {
   "cell_type": "code",
   "execution_count": 20,
   "metadata": {},
   "outputs": [
    {
     "name": "stdout",
     "output_type": "stream",
     "text": [
      "C = 0.115, training error: 0.0275, test error: 0.034\n",
      "C = 0.573, training error: 0.039, test error: 0.056\n",
      "C = 0.802, training error: 0.0149, test error: 0.014\n"
     ]
    }
   ],
   "source": [
    "params_2a=[]\n",
    "error_train_2a=[]\n",
    "error_test_2a=[]\n",
    "\n",
    "for Ci in C:\n",
    "    # instantiate model\n",
    "    model = SVM(C=Ci, gamma0=1e-2, d=0.1)\n",
    "    # fit to training data\n",
    "    model.fit(X_train, y_train)\n",
    "    \n",
    "    # store weights\n",
    "    params_2a.append(model.w.copy())\n",
    "    \n",
    "    # predict on training data\n",
    "    y_pred = model.predict(X_train)\n",
    "    # get training error\n",
    "    error_train = get_error(y_pred, y_train)\n",
    "    error_train_2a.append(error_train)\n",
    "    \n",
    "    # predict on test data\n",
    "    y_pred = model.predict(X_test)\n",
    "    # get test error\n",
    "    error_test = get_error(y_pred, y_test)\n",
    "    error_test_2a.append(error_test)\n",
    "    \n",
    "    # print results\n",
    "    print(f\"C = {round(Ci, 3)}, training error: {round(error_train, 4)}, test error: {round(error_test, 4)}\")\n",
    "    \n",
    "params_2a = np.array(params_2a)\n",
    "error_train_2a = np.array(error_train_2a)\n",
    "error_test_2a = np.array(error_test_2a)"
   ]
  },
  {
   "cell_type": "markdown",
   "metadata": {},
   "source": [
    "## Problem 2.2b"
   ]
  },
  {
   "cell_type": "code",
   "execution_count": 21,
   "metadata": {},
   "outputs": [
    {
     "name": "stdout",
     "output_type": "stream",
     "text": [
      "C = 0.115, training error: 0.0069, test error: 0.014\n",
      "C = 0.573, training error: 0.0333, test error: 0.038\n",
      "C = 0.802, training error: 0.1342, test error: 0.144\n"
     ]
    }
   ],
   "source": [
    "params_2b=[]\n",
    "error_train_2b=[]\n",
    "error_test_2b=[]\n",
    "\n",
    "for Ci in C:\n",
    "    # instantiate model\n",
    "    model = SVM(C=Ci, gamma0=1e-2, d=0.1)\n",
    "    # fit to training data\n",
    "    model.fit(X_train, y_train)\n",
    "    \n",
    "    # store weights\n",
    "    params_2b.append(model.w.copy())\n",
    "    \n",
    "    # predict on training data\n",
    "    y_pred = model.predict(X_train)\n",
    "    # get training error\n",
    "    error_train = get_error(y_pred, y_train)\n",
    "    error_train_2b.append(error_train)\n",
    "    \n",
    "    # predict on test data\n",
    "    y_pred = model.predict(X_test)\n",
    "    # get test error\n",
    "    error_test = get_error(y_pred, y_test)\n",
    "    error_test_2b.append(error_test)\n",
    "    \n",
    "    # print results\n",
    "    print(f\"C = {round(Ci, 3)}, training error: {round(error_train, 4)}, test error: {round(error_test, 4)}\")\n",
    "    \n",
    "params_2b = np.array(params_2b)\n",
    "error_train_2b = np.array(error_train_2b)\n",
    "error_test_2b = np.array(error_test_2b)"
   ]
  },
  {
   "cell_type": "markdown",
   "metadata": {},
   "source": [
    "## Problem 2c"
   ]
  },
  {
   "cell_type": "code",
   "execution_count": 22,
   "metadata": {},
   "outputs": [
    {
     "data": {
      "text/plain": [
       "array([[-0.62689156, -0.38140768,  0.20251244,  0.37657343, -0.45402478],\n",
       "       [ 0.53790452, -0.56377517, -1.11490591,  1.65956364,  0.45402478],\n",
       "       [ 3.08964447, -1.73987955,  5.92340118, -0.32536457,  0.6356347 ]])"
      ]
     },
     "execution_count": 22,
     "metadata": {},
     "output_type": "execute_result"
    }
   ],
   "source": [
    "params_2a - params_2b"
   ]
  },
  {
   "cell_type": "code",
   "execution_count": 23,
   "metadata": {},
   "outputs": [
    {
     "data": {
      "text/plain": [
       "array([ 0.0206422 ,  0.00573394, -0.11926606])"
      ]
     },
     "execution_count": 23,
     "metadata": {},
     "output_type": "execute_result"
    }
   ],
   "source": [
    "error_train_2a - error_train_2b"
   ]
  },
  {
   "cell_type": "code",
   "execution_count": 24,
   "metadata": {},
   "outputs": [
    {
     "data": {
      "text/plain": [
       "array([ 0.02 ,  0.018, -0.13 ])"
      ]
     },
     "execution_count": 24,
     "metadata": {},
     "output_type": "execute_result"
    }
   ],
   "source": [
    "error_test_2a - error_test_2b"
   ]
  },
  {
   "cell_type": "code",
   "execution_count": null,
   "metadata": {},
   "outputs": [],
   "source": []
  }
 ],
 "metadata": {
  "kernelspec": {
   "display_name": "Python 3",
   "language": "python",
   "name": "python3"
  },
  "language_info": {
   "codemirror_mode": {
    "name": "ipython",
    "version": 3
   },
   "file_extension": ".py",
   "mimetype": "text/x-python",
   "name": "python",
   "nbconvert_exporter": "python",
   "pygments_lexer": "ipython3",
   "version": "3.7.6"
  }
 },
 "nbformat": 4,
 "nbformat_minor": 4
}
